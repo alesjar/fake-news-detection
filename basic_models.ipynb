{
 "cells": [
  {
   "cell_type": "markdown",
   "id": "48f225fc-b887-45a7-a74d-cb376275459e",
   "metadata": {},
   "source": [
    "# Entrenamiento de modelos"
   ]
  },
  {
   "cell_type": "markdown",
   "id": "17d72cff-b332-4fd3-8992-54f6e35b5cf7",
   "metadata": {},
   "source": [
    "## Liberías"
   ]
  },
  {
   "cell_type": "code",
   "execution_count": 1,
   "id": "7595066a-a5d5-4817-9f8f-258f06d320d1",
   "metadata": {
    "tags": []
   },
   "outputs": [],
   "source": [
    "# librerias basicas\n",
    "import numpy as np\n",
    "import pandas as pd\n",
    "import matplotlib.pyplot as plt\n",
    "#import seaborn as sns\n",
    "#import string\n",
    "#from collections import Counter\n",
    "\n",
    "'''# librerias de nlp\n",
    "from textblob import TextBlob\n",
    "from textblob.sentiments import NaiveBayesAnalyzer\n",
    "from textblob import Word\n",
    "from textblob import TextBlob\n",
    "from nltk.stem import WordNetLemmatizer\n",
    "from nltk.stem import PorterStemmer\n",
    "from nltk.sentiment.vader import SentimentIntensityAnalyzer'''\n",
    "\n",
    "# formateo de datos\n",
    "from sklearn.preprocessing import MinMaxScaler\n",
    "from sklearn.feature_extraction.text import TfidfVectorizer\n",
    "from sklearn.feature_extraction.text import TfidfTransformer \n",
    "from sklearn.feature_extraction.text import CountVectorizer\n",
    "from sklearn.model_selection import train_test_split\n",
    "from sklearn.decomposition import TruncatedSVD\n",
    "\n",
    "\n",
    "\n",
    "# modelos de sklearn\n",
    "from sklearn.ensemble import RandomForestClassifier\n",
    "from sklearn.ensemble import GradientBoostingClassifier\n",
    "from sklearn.neighbors import KNeighborsClassifier\n",
    "from sklearn.linear_model import LogisticRegression\n",
    "from sklearn.ensemble import GradientBoostingClassifier\n",
    "from sklearn.ensemble import RandomForestClassifier\n",
    "from sklearn.cluster import KMeans\n",
    "from sklearn.model_selection import cross_val_score, KFold\n",
    "from sklearn.model_selection import GridSearchCV\n",
    "from sklearn.naive_bayes import MultinomialNB\n",
    "\n",
    "from scipy.sparse import vstack\n",
    "from scipy.sparse import hstack\n",
    "\n",
    "# searching for hyperparameters\n",
    "from skopt import BayesSearchCV\n",
    "from skopt.space import Real, Categorical, Integer\n",
    "\n",
    "# metricas\n",
    "from sklearn.metrics import confusion_matrix, ConfusionMatrixDisplay\n",
    "from sklearn.metrics import jaccard_score\n",
    "from sklearn.metrics import accuracy_score\n",
    "from sklearn.metrics import precision_score\n",
    "from sklearn.metrics import recall_score\n",
    "from sklearn.metrics import f1_score\n",
    "from sklearn.metrics import roc_curve, roc_auc_score\n",
    "from sklearn.metrics import classification_report\n",
    "\n",
    "# guardar los modelos\n",
    "from joblib import dump, load"
   ]
  },
  {
   "cell_type": "markdown",
   "id": "743e189c-5903-41be-9ddb-c44b27e87fa7",
   "metadata": {},
   "source": [
    "## Vamos a iniciar una función que calcule y muestre las métricas de los modelos"
   ]
  },
  {
   "cell_type": "code",
   "execution_count": 2,
   "id": "ed18c034-ff17-4afa-905a-577f0db00dcc",
   "metadata": {},
   "outputs": [],
   "source": [
    "def print_metrics(y_test, yhat):\n",
    "    # Calcula y muestra métricas \n",
    "    print(\"Jaccard Index:\", jaccard_score(y_test, yhat, average=\"macro\"))\n",
    "    print(\"Accuracy:\", accuracy_score(y_test, yhat))\n",
    "    print(\"Precisión:\", precision_score(y_test, yhat, average=\"macro\"))\n",
    "    print(\"Recall:\", recall_score(y_test, yhat, average=\"macro\"))\n",
    "    print(\"F1-score:\", f1_score(y_test, yhat, average=\"macro\"))\n",
    "    \n",
    "    # Calcula y muestra la matriz de confusión\n",
    "    cm = confusion_matrix(y_test, yhat)\n",
    "    disp = ConfusionMatrixDisplay(confusion_matrix=cm)\n",
    "    disp.plot()"
   ]
  },
  {
   "cell_type": "code",
   "execution_count": 3,
   "id": "cd430cc3-de27-4132-a175-40e0f1815b14",
   "metadata": {
    "tags": []
   },
   "outputs": [],
   "source": [
    "df = pd.read_csv(\"Data/fake_news_after_eda.csv\")"
   ]
  },
  {
   "cell_type": "code",
   "execution_count": 4,
   "id": "c1071b65-0c17-4aa0-8677-0469d20caef6",
   "metadata": {
    "tags": []
   },
   "outputs": [
    {
     "data": {
      "text/plain": [
       "<68962x5000 sparse matrix of type '<class 'numpy.int64'>'\n",
       "\twith 14484719 stored elements in Compressed Sparse Row format>"
      ]
     },
     "execution_count": 4,
     "metadata": {},
     "output_type": "execute_result"
    }
   ],
   "source": [
    "# Inicializamos un objeto CountVecrtorizer()\n",
    "count_vectorizer = CountVectorizer(max_features = 5000)\n",
    "\n",
    "# tomamos el texto de las noticias\n",
    "frases = df['text'].to_numpy()\n",
    "\n",
    "# creamos una matriz sparse con los datos\n",
    "bag = count_vectorizer.fit_transform(frases)\n",
    "\n",
    "bag"
   ]
  },
  {
   "cell_type": "code",
   "execution_count": 5,
   "id": "dc6a023f-b9bb-431e-8917-30dbf132e621",
   "metadata": {},
   "outputs": [
    {
     "data": {
      "text/plain": [
       "<68962x5000 sparse matrix of type '<class 'numpy.int64'>'\n",
       "\twith 14608952 stored elements in Compressed Sparse Row format>"
      ]
     },
     "execution_count": 5,
     "metadata": {},
     "output_type": "execute_result"
    }
   ],
   "source": [
    "# Inicializamos un objeto CountVecrtorizer()\n",
    "count_vectorizer = CountVectorizer(max_features = 5000)\n",
    "\n",
    "# tomamos el texto de las noticias\n",
    "frases = (df['title'] + df['text']).to_numpy()\n",
    "\n",
    "# creamos una matriz sparse con los datos\n",
    "bag = count_vectorizer.fit_transform(frases)\n",
    "\n",
    "bag"
   ]
  },
  {
   "cell_type": "markdown",
   "id": "7fe41d62-6406-4afc-b6b5-6b41b7592d2d",
   "metadata": {},
   "source": [
    "A medida que avancemos vamos a ir borrando variables para no sobrecargar la memoria."
   ]
  },
  {
   "cell_type": "code",
   "execution_count": 6,
   "id": "55a322bf-d7c4-4343-856a-030993ac3985",
   "metadata": {
    "tags": []
   },
   "outputs": [],
   "source": [
    "del(count_vectorizer)"
   ]
  },
  {
   "cell_type": "code",
   "execution_count": 7,
   "id": "bd6c6b1c-317f-40c7-b851-8f65f708366d",
   "metadata": {
    "tags": []
   },
   "outputs": [],
   "source": [
    "# usamos tfidf para ajustar las apariciones\n",
    "tfidf = TfidfTransformer()\n",
    "bag_tfidf = tfidf.fit_transform(bag).toarray()"
   ]
  },
  {
   "cell_type": "code",
   "execution_count": 8,
   "id": "5a7380b7-e2c8-498a-9a65-688699978918",
   "metadata": {
    "tags": []
   },
   "outputs": [],
   "source": [
    "del(tfidf)\n",
    "del(bag)"
   ]
  },
  {
   "cell_type": "code",
   "execution_count": 9,
   "id": "fb23769c-af65-42a7-87c9-948a5df6eaa1",
   "metadata": {
    "tags": []
   },
   "outputs": [],
   "source": [
    "X_train, X_test, y_train, y_test = train_test_split(bag_tfidf, df['label'].to_numpy(), test_size = 0.3, stratify = df['label'].to_numpy(), random_state = 42)"
   ]
  },
  {
   "cell_type": "code",
   "execution_count": 10,
   "id": "e9740a47-ba6f-4167-a71a-3e93150ff6ae",
   "metadata": {
    "tags": []
   },
   "outputs": [],
   "source": [
    "del(bag_tfidf)"
   ]
  },
  {
   "cell_type": "code",
   "execution_count": 11,
   "id": "5efe57e0-cee5-4f23-9d4d-7e258b1edcb4",
   "metadata": {
    "tags": []
   },
   "outputs": [
    {
     "data": {
      "text/html": [
       "<style>#sk-container-id-1 {color: black;background-color: white;}#sk-container-id-1 pre{padding: 0;}#sk-container-id-1 div.sk-toggleable {background-color: white;}#sk-container-id-1 label.sk-toggleable__label {cursor: pointer;display: block;width: 100%;margin-bottom: 0;padding: 0.3em;box-sizing: border-box;text-align: center;}#sk-container-id-1 label.sk-toggleable__label-arrow:before {content: \"▸\";float: left;margin-right: 0.25em;color: #696969;}#sk-container-id-1 label.sk-toggleable__label-arrow:hover:before {color: black;}#sk-container-id-1 div.sk-estimator:hover label.sk-toggleable__label-arrow:before {color: black;}#sk-container-id-1 div.sk-toggleable__content {max-height: 0;max-width: 0;overflow: hidden;text-align: left;background-color: #f0f8ff;}#sk-container-id-1 div.sk-toggleable__content pre {margin: 0.2em;color: black;border-radius: 0.25em;background-color: #f0f8ff;}#sk-container-id-1 input.sk-toggleable__control:checked~div.sk-toggleable__content {max-height: 200px;max-width: 100%;overflow: auto;}#sk-container-id-1 input.sk-toggleable__control:checked~label.sk-toggleable__label-arrow:before {content: \"▾\";}#sk-container-id-1 div.sk-estimator input.sk-toggleable__control:checked~label.sk-toggleable__label {background-color: #d4ebff;}#sk-container-id-1 div.sk-label input.sk-toggleable__control:checked~label.sk-toggleable__label {background-color: #d4ebff;}#sk-container-id-1 input.sk-hidden--visually {border: 0;clip: rect(1px 1px 1px 1px);clip: rect(1px, 1px, 1px, 1px);height: 1px;margin: -1px;overflow: hidden;padding: 0;position: absolute;width: 1px;}#sk-container-id-1 div.sk-estimator {font-family: monospace;background-color: #f0f8ff;border: 1px dotted black;border-radius: 0.25em;box-sizing: border-box;margin-bottom: 0.5em;}#sk-container-id-1 div.sk-estimator:hover {background-color: #d4ebff;}#sk-container-id-1 div.sk-parallel-item::after {content: \"\";width: 100%;border-bottom: 1px solid gray;flex-grow: 1;}#sk-container-id-1 div.sk-label:hover label.sk-toggleable__label {background-color: #d4ebff;}#sk-container-id-1 div.sk-serial::before {content: \"\";position: absolute;border-left: 1px solid gray;box-sizing: border-box;top: 0;bottom: 0;left: 50%;z-index: 0;}#sk-container-id-1 div.sk-serial {display: flex;flex-direction: column;align-items: center;background-color: white;padding-right: 0.2em;padding-left: 0.2em;position: relative;}#sk-container-id-1 div.sk-item {position: relative;z-index: 1;}#sk-container-id-1 div.sk-parallel {display: flex;align-items: stretch;justify-content: center;background-color: white;position: relative;}#sk-container-id-1 div.sk-item::before, #sk-container-id-1 div.sk-parallel-item::before {content: \"\";position: absolute;border-left: 1px solid gray;box-sizing: border-box;top: 0;bottom: 0;left: 50%;z-index: -1;}#sk-container-id-1 div.sk-parallel-item {display: flex;flex-direction: column;z-index: 1;position: relative;background-color: white;}#sk-container-id-1 div.sk-parallel-item:first-child::after {align-self: flex-end;width: 50%;}#sk-container-id-1 div.sk-parallel-item:last-child::after {align-self: flex-start;width: 50%;}#sk-container-id-1 div.sk-parallel-item:only-child::after {width: 0;}#sk-container-id-1 div.sk-dashed-wrapped {border: 1px dashed gray;margin: 0 0.4em 0.5em 0.4em;box-sizing: border-box;padding-bottom: 0.4em;background-color: white;}#sk-container-id-1 div.sk-label label {font-family: monospace;font-weight: bold;display: inline-block;line-height: 1.2em;}#sk-container-id-1 div.sk-label-container {text-align: center;}#sk-container-id-1 div.sk-container {/* jupyter's `normalize.less` sets `[hidden] { display: none; }` but bootstrap.min.css set `[hidden] { display: none !important; }` so we also need the `!important` here to be able to override the default hidden behavior on the sphinx rendered scikit-learn.org. See: https://github.com/scikit-learn/scikit-learn/issues/21755 */display: inline-block !important;position: relative;}#sk-container-id-1 div.sk-text-repr-fallback {display: none;}</style><div id=\"sk-container-id-1\" class=\"sk-top-container\"><div class=\"sk-text-repr-fallback\"><pre>TruncatedSVD(n_components=500, n_iter=7, random_state=42)</pre><b>In a Jupyter environment, please rerun this cell to show the HTML representation or trust the notebook. <br />On GitHub, the HTML representation is unable to render, please try loading this page with nbviewer.org.</b></div><div class=\"sk-container\" hidden><div class=\"sk-item\"><div class=\"sk-estimator sk-toggleable\"><input class=\"sk-toggleable__control sk-hidden--visually\" id=\"sk-estimator-id-1\" type=\"checkbox\" checked><label for=\"sk-estimator-id-1\" class=\"sk-toggleable__label sk-toggleable__label-arrow\">TruncatedSVD</label><div class=\"sk-toggleable__content\"><pre>TruncatedSVD(n_components=500, n_iter=7, random_state=42)</pre></div></div></div></div></div>"
      ],
      "text/plain": [
       "TruncatedSVD(n_components=500, n_iter=7, random_state=42)"
      ]
     },
     "execution_count": 11,
     "metadata": {},
     "output_type": "execute_result"
    }
   ],
   "source": [
    "# aplicamos pca con svd que funciona en matrices sparse\n",
    "svd = TruncatedSVD(n_components = 500, n_iter=7, random_state=42)\n",
    "svd.fit(X_train)"
   ]
  },
  {
   "cell_type": "code",
   "execution_count": 12,
   "id": "4afd08fd-5797-42bb-839a-b55cc78ed7bf",
   "metadata": {
    "tags": []
   },
   "outputs": [],
   "source": [
    "X_train_pca = svd.transform(X_train)\n",
    "X_test_pca = svd.transform(X_test)"
   ]
  },
  {
   "cell_type": "markdown",
   "id": "1f395bdf-9383-41e2-bc99-45191e3c1f57",
   "metadata": {},
   "source": [
    "## Random Forest"
   ]
  },
  {
   "cell_type": "code",
   "execution_count": null,
   "id": "1eb47c0b-78a6-4e97-8b0e-35541263177c",
   "metadata": {
    "scrolled": true,
    "tags": []
   },
   "outputs": [],
   "source": [
    "model = RandomForestClassifier(verbose = 2, n_jobs = 4)\n",
    "model.fit(X_train_pca, y_train)\n",
    "\n",
    "# guardamos el modelo\n",
    "dump(model, 'models/random_forest.joblib')"
   ]
  },
  {
   "cell_type": "code",
   "execution_count": 16,
   "id": "12c752ec-cd8a-42f1-8c59-bee0eda1d7fc",
   "metadata": {},
   "outputs": [
    {
     "name": "stderr",
     "output_type": "stream",
     "text": [
      "[Parallel(n_jobs=4)]: Using backend ThreadingBackend with 4 concurrent workers.\n",
      "[Parallel(n_jobs=4)]: Done  33 tasks      | elapsed:    0.0s\n",
      "[Parallel(n_jobs=4)]: Done 100 out of 100 | elapsed:    0.0s finished\n"
     ]
    },
    {
     "name": "stdout",
     "output_type": "stream",
     "text": [
      "Jaccard Index: 0.8193726582964025\n",
      "Accuracy: 0.9007201894726666\n",
      "Precisión: 0.9008801319651177\n",
      "Recall: 0.9009138187665844\n",
      "F1-score: 0.9007199665745992\n"
     ]
    },
    {
     "data": {
      "image/png": "[encoded data removed]",
      "text/plain": [
       "<Figure size 640x480 with 2 Axes>"
      ]
     },
     "metadata": {},
     "output_type": "display_data"
    }
   ],
   "source": [
    "# cargamos el modelo y predecimos\n",
    "model = load('models/random_forest.joblib')\n",
    "yhat = model.predict(X_test_pca)\n",
    "\n",
    "# mostramos las métricas\n",
    "print_metrics(y_test, yhat)"
   ]
  },
  {
   "cell_type": "markdown",
   "id": "30d4de56-91a1-443e-99ec-84f44fa73f35",
   "metadata": {},
   "source": [
    "## Búsqueda de los mejores hiperparámetros con BayesSearch."
   ]
  },
  {
   "cell_type": "code",
   "execution_count": null,
   "id": "b7ff2727-d726-406d-ad0e-2756ba7ef32c",
   "metadata": {},
   "outputs": [],
   "source": [
    "np.int = int\n",
    "opt = BayesSearchCV(\n",
    "    RandomForestClassifier(),\n",
    "    {\"criterion\": Categorical(['gini', 'entropy', 'log_loss']),\n",
    "    \"n_estimators\": Integer(10, 500),\n",
    "     \"min_samples_split\": Integer(2, 15),\n",
    "     \"min_samples_leaf\": Integer(1, 10),\n",
    "     \"min_impurity_decrease\": Real(0, 1),\n",
    "     \"min_weight_fraction_leaf\": Real(0, 0.5),\n",
    "     \"max_features\": Categorical(['sqrt', 'log2', None]),\n",
    "    },\n",
    "    n_jobs=4,\n",
    "    random_state=42,\n",
    "    verbose = 2)\n",
    "bayes_search = opt.fit(X_train_pca, y_train)\n",
    "dump(bayes_search, 'models/bayes_search_RandomForestClassifier.joblib')"
   ]
  },
  {
   "cell_type": "markdown",
   "id": "6f57bc9b-b8ca-4f3a-9240-fc48f4674f2c",
   "metadata": {},
   "source": [
    "Después de calcular todas las posibilidades para los parámetros dados, la que mejor resultado ha dado ha sido\n",
    "\n",
    "`Mejores hiperparámetros:\n",
    "{'max_depth': None, 'min_samples_leaf': 1, 'min_samples_split': 2, 'n_estimators': 300}`"
   ]
  },
  {
   "cell_type": "code",
   "execution_count": 13,
   "id": "a905fffa-8d00-4cc2-80e3-0f961d99a0d1",
   "metadata": {
    "scrolled": true
   },
   "outputs": [
    {
     "name": "stderr",
     "output_type": "stream",
     "text": [
      "[Parallel(n_jobs=4)]: Using backend ThreadingBackend with 4 concurrent workers.\n"
     ]
    },
    {
     "name": "stdout",
     "output_type": "stream",
     "text": [
      "building tree 1 of 300\n",
      "building tree 2 of 300\n",
      "building tree 3 of 300\n",
      "building tree 4 of 300\n",
      "building tree 5 of 300\n",
      "building tree 6 of 300\n",
      "building tree 7 of 300\n",
      "building tree 8 of 300\n",
      "building tree 9 of 300\n",
      "building tree 10 of 300\n",
      "building tree 11 of 300\n",
      "building tree 12 of 300\n",
      "building tree 13 of 300\n",
      "building tree 14 of 300\n",
      "building tree 15 of 300\n",
      "building tree 16 of 300\n",
      "building tree 17 of 300\n",
      "building tree 18 of 300\n",
      "building tree 19 of 300\n",
      "building tree 20 of 300\n",
      "building tree 21 of 300\n",
      "building tree 22 of 300\n",
      "building tree 23 of 300\n",
      "building tree 24 of 300\n",
      "building tree 25 of 300\n",
      "building tree 26 of 300\n",
      "building tree 27 of 300\n",
      "building tree 28 of 300\n",
      "building tree 29 of 300\n",
      "building tree 30 of 300\n",
      "building tree 31 of 300\n",
      "building tree 32 of 300\n",
      "building tree 33 of 300\n",
      "building tree 34 of 300\n",
      "building tree 35 of 300\n",
      "building tree 36 of 300\n",
      "building tree 37 of 300\n"
     ]
    },
    {
     "name": "stderr",
     "output_type": "stream",
     "text": [
      "[Parallel(n_jobs=4)]: Done  33 tasks      | elapsed:   16.3s\n"
     ]
    },
    {
     "name": "stdout",
     "output_type": "stream",
     "text": [
      "building tree 38 of 300\n",
      "building tree 39 of 300\n",
      "building tree 40 of 300\n",
      "building tree 41 of 300\n",
      "building tree 42 of 300\n",
      "building tree 43 of 300\n",
      "building tree 44 of 300\n",
      "building tree 45 of 300\n",
      "building tree 46 of 300\n",
      "building tree 47 of 300\n",
      "building tree 48 of 300\n",
      "building tree 49 of 300\n",
      "building tree 50 of 300\n",
      "building tree 51 of 300\n",
      "building tree 52 of 300\n",
      "building tree 53 of 300\n",
      "building tree 54 of 300\n",
      "building tree 55 of 300\n",
      "building tree 56 of 300\n",
      "building tree 57 of 300\n",
      "building tree 58 of 300\n",
      "building tree 59 of 300\n",
      "building tree 60 of 300\n",
      "building tree 61 of 300\n",
      "building tree 62 of 300\n",
      "building tree 63 of 300\n",
      "building tree 64 of 300\n",
      "building tree 65 of 300\n",
      "building tree 66 of 300\n",
      "building tree 67 of 300\n",
      "building tree 68 of 300\n",
      "building tree 69 of 300\n",
      "building tree 70 of 300\n",
      "building tree 71 of 300\n",
      "building tree 72 of 300\n",
      "building tree 73 of 300\n",
      "building tree 74 of 300\n",
      "building tree 75 of 300\n",
      "building tree 76 of 300\n",
      "building tree 77 of 300\n",
      "building tree 78 of 300\n",
      "building tree 79 of 300\n",
      "building tree 80 of 300\n",
      "building tree 81 of 300\n",
      "building tree 82 of 300\n",
      "building tree 83 of 300\n",
      "building tree 84 of 300\n",
      "building tree 85 of 300\n",
      "building tree 86 of 300\n",
      "building tree 87 of 300\n",
      "building tree 88 of 300\n",
      "building tree 89 of 300\n",
      "building tree 90 of 300\n",
      "building tree 91 of 300\n",
      "building tree 92 of 300\n",
      "building tree 93 of 300\n",
      "building tree 94 of 300\n",
      "building tree 95 of 300\n",
      "building tree 96 of 300\n",
      "building tree 97 of 300\n",
      "building tree 98 of 300\n",
      "building tree 99 of 300\n",
      "building tree 100 of 300\n",
      "building tree 101 of 300\n",
      "building tree 102 of 300\n",
      "building tree 103 of 300\n",
      "building tree 104 of 300\n",
      "building tree 105 of 300\n",
      "building tree 106 of 300\n",
      "building tree 107 of 300\n",
      "building tree 108 of 300\n",
      "building tree 109 of 300\n",
      "building tree 110 of 300\n",
      "building tree 111 of 300\n",
      "building tree 112 of 300\n",
      "building tree 113 of 300\n",
      "building tree 114 of 300\n",
      "building tree 115 of 300\n",
      "building tree 116 of 300\n",
      "building tree 117 of 300\n",
      "building tree 118 of 300\n",
      "building tree 119 of 300\n",
      "building tree 120 of 300\n",
      "building tree 121 of 300\n",
      "building tree 122 of 300\n",
      "building tree 123 of 300\n",
      "building tree 124 of 300\n",
      "building tree 125 of 300\n",
      "building tree 126 of 300\n",
      "building tree 127 of 300\n",
      "building tree 128 of 300\n",
      "building tree 129 of 300\n",
      "building tree 130 of 300\n",
      "building tree 131 of 300\n",
      "building tree 132 of 300\n",
      "building tree 133 of 300\n",
      "building tree 134 of 300\n",
      "building tree 135 of 300\n",
      "building tree 136 of 300\n",
      "building tree 137 of 300\n",
      "building tree 138 of 300\n",
      "building tree 139 of 300\n",
      "building tree 140 of 300\n",
      "building tree 141 of 300\n",
      "building tree 142 of 300\n",
      "building tree 143 of 300\n",
      "building tree 144 of 300\n",
      "building tree 145 of 300\n",
      "building tree 146 of 300\n",
      "building tree 147 of 300\n",
      "building tree 148 of 300\n",
      "building tree 149 of 300\n",
      "building tree 150 of 300\n",
      "building tree 151 of 300\n",
      "building tree 152 of 300\n",
      "building tree 153 of 300\n",
      "building tree 154 of 300\n",
      "building tree 155 of 300\n",
      "building tree 156 of 300\n",
      "building tree 157 of 300\n",
      "building tree 158 of 300\n"
     ]
    },
    {
     "name": "stderr",
     "output_type": "stream",
     "text": [
      "[Parallel(n_jobs=4)]: Done 154 tasks      | elapsed:  1.3min\n"
     ]
    },
    {
     "name": "stdout",
     "output_type": "stream",
     "text": [
      "building tree 159 of 300\n",
      "building tree 160 of 300\n",
      "building tree 161 of 300\n",
      "building tree 162 of 300\n",
      "building tree 163 of 300\n",
      "building tree 164 of 300\n",
      "building tree 165 of 300\n",
      "building tree 166 of 300\n",
      "building tree 167 of 300\n",
      "building tree 168 of 300\n",
      "building tree 169 of 300\n",
      "building tree 170 of 300\n",
      "building tree 171 of 300\n",
      "building tree 172 of 300\n",
      "building tree 173 of 300\n",
      "building tree 174 of 300\n",
      "building tree 175 of 300\n",
      "building tree 176 of 300\n",
      "building tree 177 of 300\n",
      "building tree 178 of 300\n",
      "building tree 179 of 300\n",
      "building tree 180 of 300\n",
      "building tree 181 of 300\n",
      "building tree 182 of 300\n",
      "building tree 183 of 300\n",
      "building tree 184 of 300\n",
      "building tree 185 of 300\n",
      "building tree 186 of 300\n",
      "building tree 187 of 300\n",
      "building tree 188 of 300\n",
      "building tree 189 of 300\n",
      "building tree 190 of 300\n",
      "building tree 191 of 300\n",
      "building tree 192 of 300\n",
      "building tree 193 of 300\n",
      "building tree 194 of 300\n",
      "building tree 195 of 300\n",
      "building tree 196 of 300\n",
      "building tree 197 of 300\n",
      "building tree 198 of 300\n",
      "building tree 199 of 300\n",
      "building tree 200 of 300\n",
      "building tree 201 of 300\n",
      "building tree 202 of 300\n",
      "building tree 203 of 300\n",
      "building tree 204 of 300\n",
      "building tree 205 of 300\n",
      "building tree 206 of 300\n",
      "building tree 207 of 300\n",
      "building tree 208 of 300\n",
      "building tree 209 of 300\n",
      "building tree 210 of 300\n",
      "building tree 211 of 300\n",
      "building tree 212 of 300\n",
      "building tree 213 of 300\n",
      "building tree 214 of 300\n",
      "building tree 215 of 300\n",
      "building tree 216 of 300\n",
      "building tree 217 of 300\n",
      "building tree 218 of 300\n",
      "building tree 219 of 300\n",
      "building tree 220 of 300\n",
      "building tree 221 of 300\n",
      "building tree 222 of 300\n",
      "building tree 223 of 300\n",
      "building tree 224 of 300\n",
      "building tree 225 of 300\n",
      "building tree 226 of 300\n",
      "building tree 227 of 300\n",
      "building tree 228 of 300\n",
      "building tree 229 of 300\n",
      "building tree 230 of 300\n",
      "building tree 231 of 300\n",
      "building tree 232 of 300\n",
      "building tree 233 of 300\n",
      "building tree 234 of 300\n",
      "building tree 235 of 300\n",
      "building tree 236 of 300\n",
      "building tree 237 of 300\n",
      "building tree 238 of 300\n",
      "building tree 239 of 300\n",
      "building tree 240 of 300\n",
      "building tree 241 of 300\n",
      "building tree 242 of 300\n",
      "building tree 243 of 300\n",
      "building tree 244 of 300\n",
      "building tree 245 of 300\n",
      "building tree 246 of 300\n",
      "building tree 247 of 300\n",
      "building tree 248 of 300\n",
      "building tree 249 of 300\n",
      "building tree 250 of 300\n",
      "building tree 251 of 300\n",
      "building tree 252 of 300\n",
      "building tree 253 of 300\n",
      "building tree 254 of 300\n",
      "building tree 255 of 300\n",
      "building tree 256 of 300\n",
      "building tree 257 of 300\n",
      "building tree 258 of 300\n",
      "building tree 259 of 300\n",
      "building tree 260 of 300\n",
      "building tree 261 of 300\n",
      "building tree 262 of 300\n",
      "building tree 263 of 300\n",
      "building tree 264 of 300\n",
      "building tree 265 of 300\n",
      "building tree 266 of 300\n",
      "building tree 267 of 300\n",
      "building tree 268 of 300\n",
      "building tree 269 of 300\n",
      "building tree 270 of 300\n",
      "building tree 271 of 300\n",
      "building tree 272 of 300\n",
      "building tree 273 of 300\n",
      "building tree 274 of 300\n",
      "building tree 275 of 300\n",
      "building tree 276 of 300\n",
      "building tree 277 of 300\n",
      "building tree 278 of 300\n",
      "building tree 279 of 300\n",
      "building tree 280 of 300\n",
      "building tree 281 of 300\n",
      "building tree 282 of 300\n",
      "building tree 283 of 300\n",
      "building tree 284 of 300\n",
      "building tree 285 of 300\n",
      "building tree 286 of 300\n",
      "building tree 287 of 300\n",
      "building tree 288 of 300\n",
      "building tree 289 of 300\n",
      "building tree 290 of 300\n",
      "building tree 291 of 300\n",
      "building tree 292 of 300\n",
      "building tree 293 of 300\n",
      "building tree 294 of 300\n",
      "building tree 295 of 300\n",
      "building tree 296 of 300\n",
      "building tree 297 of 300\n",
      "building tree 298 of 300\n",
      "building tree 299 of 300\n",
      "building tree 300 of 300\n"
     ]
    },
    {
     "name": "stderr",
     "output_type": "stream",
     "text": [
      "[Parallel(n_jobs=4)]: Done 300 out of 300 | elapsed:  2.6min finished\n"
     ]
    },
    {
     "data": {
      "text/plain": [
       "['models/bayes_search_RandomForestClassifier.joblib']"
      ]
     },
     "execution_count": 13,
     "metadata": {},
     "output_type": "execute_result"
    }
   ],
   "source": [
    "model = RandomForestClassifier(bootstrap = True,\n",
    "                               verbose = 2,\n",
    "                               n_jobs = 4,\n",
    "                               max_depth=None,\n",
    "                               min_samples_leaf=1,\n",
    "                               min_samples_split=2,\n",
    "                               n_estimators=300)\n",
    "model.fit(X_train_pca, y_train)\n",
    "\n",
    "# guardamos el modelo\n",
    "dump(model, 'models/bayes_search_RandomForestClassifier.joblib') "
   ]
  },
  {
   "cell_type": "code",
   "execution_count": 14,
   "id": "b429e2b6-a4e9-4e51-9211-20cdf666afd8",
   "metadata": {
    "tags": []
   },
   "outputs": [
    {
     "name": "stderr",
     "output_type": "stream",
     "text": [
      "[Parallel(n_jobs=4)]: Using backend ThreadingBackend with 4 concurrent workers.\n",
      "[Parallel(n_jobs=4)]: Done  33 tasks      | elapsed:    0.0s\n",
      "[Parallel(n_jobs=4)]: Done 154 tasks      | elapsed:    0.1s\n"
     ]
    },
    {
     "name": "stdout",
     "output_type": "stream",
     "text": [
      "Jaccard Index: 0.8278101805488587\n",
      "Accuracy: 0.9057953501860893\n",
      "Precisión: 0.906159933165153\n",
      "Recall: 0.9060629631346762\n",
      "F1-score: 0.9057943914796793\n"
     ]
    },
    {
     "name": "stderr",
     "output_type": "stream",
     "text": [
      "[Parallel(n_jobs=4)]: Done 300 out of 300 | elapsed:    0.4s finished\n"
     ]
    },
    {
     "data": {
      "image/png": "[encoded data removed]",
      "text/plain": [
       "<Figure size 640x480 with 2 Axes>"
      ]
     },
     "metadata": {},
     "output_type": "display_data"
    }
   ],
   "source": [
    "# cargamos el mejor modelo random forest\n",
    "best_random_forest = load('models/bayes_search_RandomForestClassifier.joblib')\n",
    "\n",
    "yhat = best_random_forest.predict(X_test_pca)\n",
    "print_metrics(y_test, yhat)"
   ]
  },
  {
   "cell_type": "markdown",
   "id": "4f2a458a-a854-4e90-b5e8-a7f553157625",
   "metadata": {},
   "source": [
    "## Gradient Boosting\n"
   ]
  },
  {
   "cell_type": "code",
   "execution_count": 15,
   "id": "4a071da2-4ce4-4e40-9a19-d1961ae056fc",
   "metadata": {
    "scrolled": true,
    "tags": []
   },
   "outputs": [
    {
     "name": "stdout",
     "output_type": "stream",
     "text": [
      "      Iter       Train Loss   Remaining Time \n",
      "         1           1.3164           17.33m\n",
      "         2           1.2590           17.20m\n",
      "         3           1.2104           16.98m\n",
      "         4           1.1666           16.81m\n",
      "         5           1.1300           16.62m\n",
      "         6           1.0951           16.46m\n",
      "         7           1.0661           16.27m\n",
      "         8           1.0389           16.08m\n",
      "         9           1.0152           15.90m\n",
      "        10           0.9935           15.72m\n",
      "        11           0.9747           15.53m\n",
      "        12           0.9573           15.37m\n",
      "        13           0.9394           15.18m\n",
      "        14           0.9235           15.01m\n",
      "        15           0.9100           14.82m\n",
      "        16           0.8971           14.65m\n",
      "        17           0.8857           14.47m\n",
      "        18           0.8745           14.30m\n",
      "        19           0.8640           14.12m\n",
      "        20           0.8556           13.95m\n",
      "        21           0.8454           13.77m\n",
      "        22           0.8373           13.59m\n",
      "        23           0.8294           13.41m\n",
      "        24           0.8227           13.24m\n",
      "        25           0.8150           13.07m\n",
      "        26           0.8085           12.89m\n",
      "        27           0.8022           12.72m\n",
      "        28           0.7958           12.54m\n",
      "        29           0.7888           12.36m\n",
      "        30           0.7836           12.18m\n",
      "        31           0.7772           11.99m\n",
      "        32           0.7723           11.82m\n",
      "        33           0.7666           11.64m\n",
      "        34           0.7621           11.48m\n",
      "        35           0.7570           11.30m\n",
      "        36           0.7525           11.12m\n",
      "        37           0.7483           10.95m\n",
      "        38           0.7435           10.78m\n",
      "        39           0.7393           10.60m\n",
      "        40           0.7348           10.43m\n",
      "        41           0.7308           10.26m\n",
      "        42           0.7274           10.09m\n",
      "        43           0.7233            9.91m\n",
      "        44           0.7191            9.73m\n",
      "        45           0.7154            9.55m\n",
      "        46           0.7114            9.38m\n",
      "        47           0.7077            9.21m\n",
      "        48           0.7045            9.04m\n",
      "        49           0.7006            8.87m\n",
      "        50           0.6970            8.69m\n",
      "        51           0.6939            8.52m\n",
      "        52           0.6902            8.35m\n",
      "        53           0.6868            8.17m\n",
      "        54           0.6843            8.00m\n",
      "        55           0.6813            7.83m\n",
      "        56           0.6784            7.66m\n",
      "        57           0.6751            7.48m\n",
      "        58           0.6721            7.31m\n",
      "        59           0.6695            7.13m\n",
      "        60           0.6663            6.96m\n",
      "        61           0.6634            6.80m\n",
      "        62           0.6608            6.62m\n",
      "        63           0.6580            6.45m\n",
      "        64           0.6551            6.27m\n",
      "        65           0.6521            6.10m\n",
      "        66           0.6499            5.93m\n",
      "        67           0.6475            5.76m\n",
      "        68           0.6447            5.58m\n",
      "        69           0.6423            5.41m\n",
      "        70           0.6402            5.23m\n",
      "        71           0.6375            5.06m\n",
      "        72           0.6354            4.88m\n",
      "        73           0.6332            4.71m\n",
      "        74           0.6311            4.53m\n",
      "        75           0.6288            4.36m\n",
      "        76           0.6262            4.18m\n",
      "        77           0.6239            4.01m\n",
      "        78           0.6219            3.83m\n",
      "        79           0.6201            3.66m\n",
      "        80           0.6178            3.48m\n",
      "        81           0.6155            3.31m\n",
      "        82           0.6137            3.14m\n",
      "        83           0.6114            2.96m\n",
      "        84           0.6094            2.79m\n",
      "        85           0.6073            2.61m\n",
      "        86           0.6055            2.44m\n",
      "        87           0.6038            2.26m\n",
      "        88           0.6017            2.09m\n",
      "        89           0.6001            1.92m\n",
      "        90           0.5981            1.74m\n",
      "        91           0.5962            1.57m\n",
      "        92           0.5943            1.39m\n",
      "        93           0.5927            1.22m\n",
      "        94           0.5909            1.05m\n",
      "        95           0.5893           52.27s\n",
      "        96           0.5876           41.81s\n",
      "        97           0.5859           31.35s\n",
      "        98           0.5846           20.90s\n",
      "        99           0.5826           10.46s\n",
      "       100           0.5811            0.00s\n"
     ]
    },
    {
     "data": {
      "text/plain": [
       "['gradient_boosting.joblib']"
      ]
     },
     "execution_count": 15,
     "metadata": {},
     "output_type": "execute_result"
    }
   ],
   "source": [
    "# Crea una instancia del modelo GradientBoostingClassifier\n",
    "model = GradientBoostingClassifier(n_estimators=100, learning_rate=0.1, max_depth=3, random_state=42, verbose=2)\n",
    "\n",
    "# Entrena el modelo\n",
    "model.fit(X_train_pca, y_train)\n",
    "\n",
    "# guardamos el modelo\n",
    "dump(model, 'gradient_boosting.joblib') "
   ]
  },
  {
   "cell_type": "code",
   "execution_count": 15,
   "id": "6e29d823-0135-4f2a-8d1c-e995354a41ac",
   "metadata": {},
   "outputs": [
    {
     "data": {
      "text/plain": [
       "['gradient_boosting.joblib']"
      ]
     },
     "execution_count": 15,
     "metadata": {},
     "output_type": "execute_result"
    }
   ],
   "source": [
    "# guardamos el modelo\n",
    "dump(gb_model, 'gradient_boosting.joblib') "
   ]
  },
  {
   "cell_type": "code",
   "execution_count": 16,
   "id": "9b96d1a6-8780-4b29-843c-a7d768ccd1f2",
   "metadata": {},
   "outputs": [
    {
     "name": "stdout",
     "output_type": "stream",
     "text": [
      "Jaccard Index: 0.7842758500377541\n",
      "Accuracy: 0.8792316022411601\n",
      "Precisión: 0.8802907261227493\n",
      "Recall: 0.8789577347017881\n",
      "F1-score: 0.8790808202099087\n"
     ]
    },
    {
     "data": {
      "text/plain": [
       "<sklearn.metrics._plot.confusion_matrix.ConfusionMatrixDisplay at 0x7f6659338290>"
      ]
     },
     "execution_count": 16,
     "metadata": {},
     "output_type": "execute_result"
    },
    {
     "data": {
      "image/png": "[encoded data removed]",
      "text/plain": [
       "<Figure size 640x480 with 2 Axes>"
      ]
     },
     "metadata": {},
     "output_type": "display_data"
    }
   ],
   "source": [
    "# cargamos el modelo y predecimos\n",
    "model = load('gradient_boosting.joblib')\n",
    "yhat = model.predict(X_test_pca)\n",
    "\n",
    "# mostramos las métricas\n",
    "print_metrics(y_test, yhat)"
   ]
  },
  {
   "cell_type": "markdown",
   "id": "e8f2fd44-abe4-4daa-bb10-7787246bdde0",
   "metadata": {},
   "source": [
    "Conclusión: el modelo GradientBoostingClassifier está funcionando bastante bien en base a estas métricas. Tiene una cierta inclinación hacia clasificar como falsas, por lo que aumenta el número de falsas acertadas respecto al RandomForest, pero también aumenta significativamente el número de falsas mal detectadas. Este sesgo produce un aumento de la _precision_ y una disminución del _recall_. Además, el tiempo de entrenamiento es significativamente mayor sin aumentar la precisión con respecto al RandomForest."
   ]
  },
  {
   "cell_type": "markdown",
   "id": "068361ab-56d5-497b-b3a9-935c102aa8d3",
   "metadata": {},
   "source": [
    "# Naive Bayes"
   ]
  },
  {
   "cell_type": "code",
   "execution_count": 16,
   "id": "fe8c5b8b-3f2f-4f6d-9e05-a9c386390596",
   "metadata": {
    "tags": []
   },
   "outputs": [
    {
     "data": {
      "text/plain": [
       "['models/multi_naive_bayes.joblib']"
      ]
     },
     "execution_count": 16,
     "metadata": {},
     "output_type": "execute_result"
    }
   ],
   "source": [
    "# Entrenamiento del modelo\n",
    "model = MultinomialNB()\n",
    "model.fit(X_train, y_train)\n",
    "\n",
    "# Guardar el modelo en un archivo\n",
    "dump(model, 'models/multi_naive_bayes.joblib')"
   ]
  },
  {
   "cell_type": "code",
   "execution_count": 32,
   "id": "40ba8d8e-09cf-4873-b1ab-495cab31291d",
   "metadata": {
    "tags": []
   },
   "outputs": [
    {
     "name": "stdout",
     "output_type": "stream",
     "text": [
      "Jaccard Index: 0.7220215154785152\n",
      "Accuracy: 0.8387871368708508\n",
      "Precisión: 0.839992160782354\n",
      "Recall: 0.8384687632503294\n",
      "F1-score: 0.8385399650483112\n"
     ]
    },
    {
     "data": {
      "image/png": "[encoded data removed]",
      "text/plain": [
       "<Figure size 640x480 with 2 Axes>"
      ]
     },
     "metadata": {},
     "output_type": "display_data"
    }
   ],
   "source": [
    "model = load('models/multi_naive_bayes.joblib')\n",
    "yhat = model.predict(X_test)\n",
    "\n",
    "# Calcula y muestra métricas de evaluación\n",
    "print_metrics(y_test, yhat)"
   ]
  },
  {
   "cell_type": "markdown",
   "id": "4aa1c8ed-9587-4079-859e-d41a69a5f836",
   "metadata": {},
   "source": [
    "Conclusión: este modelo tiene un desempeño peor que el modelo anterior."
   ]
  },
  {
   "cell_type": "markdown",
   "id": "24c5f7ff-9b04-41bd-8808-903c638f7783",
   "metadata": {},
   "source": [
    "## KNeighborsClassifier"
   ]
  },
  {
   "cell_type": "code",
   "execution_count": 33,
   "id": "d302ea61-8ccd-4af3-8b41-bf7b8b04a85d",
   "metadata": {
    "tags": []
   },
   "outputs": [
    {
     "data": {
      "text/plain": [
       "['models/kneighbors_classifier.joblib']"
      ]
     },
     "execution_count": 33,
     "metadata": {},
     "output_type": "execute_result"
    }
   ],
   "source": [
    "model = KNeighborsClassifier(n_neighbors=5)\n",
    "model.fit(X_train_pca, y_train)\n",
    "\n",
    "dump(model, 'models/kneighbors_classifier.joblib') "
   ]
  },
  {
   "cell_type": "code",
   "execution_count": 35,
   "id": "8301b61f-9277-4240-a046-9efdcc2f23b0",
   "metadata": {
    "tags": []
   },
   "outputs": [
    {
     "name": "stdout",
     "output_type": "stream",
     "text": [
      "Jaccard Index: 0.7624106426054245\n",
      "Accuracy: 0.8652008098309714\n",
      "Precisión: 0.8651821584823314\n",
      "Recall: 0.8651992968370688\n",
      "F1-score: 0.8651893291332406\n"
     ]
    },
    {
     "data": {
      "image/png": "[encoded data removed]",
      "text/plain": [
       "<Figure size 640x480 with 2 Axes>"
      ]
     },
     "metadata": {},
     "output_type": "display_data"
    }
   ],
   "source": [
    "model = load('models/kneighbors_classifier.joblib')\n",
    "yhat = model.predict(X_test_pca)\n",
    "\n",
    "# Calcula y muestra métricas de evaluación\n",
    "print_metrics(y_test, yhat)"
   ]
  },
  {
   "cell_type": "markdown",
   "id": "7690e9be-fba3-4af7-b543-f4210c64c1c9",
   "metadata": {},
   "source": [
    "## AdaBoostClassifier"
   ]
  },
  {
   "cell_type": "code",
   "execution_count": null,
   "id": "16430d44-e54c-474b-bdc8-4d0ef6ea3f5b",
   "metadata": {},
   "outputs": [],
   "source": [
    "model = AdaBoostClassifier(n_estimators = 100)\n",
    "model.fit(X_train_pca, y_train)\n",
    "\n",
    "dump(model, 'models/model_ada_boost_classifier.joblib') "
   ]
  },
  {
   "cell_type": "code",
   "execution_count": 28,
   "id": "3430ed40-a09a-40d0-884f-202f5ebdf7cd",
   "metadata": {
    "tags": []
   },
   "outputs": [
    {
     "name": "stdout",
     "output_type": "stream",
     "text": [
      "Jaccard Index: 0.7811869994529365\n",
      "Accuracy: 0.8772248625477588\n",
      "Precisión: 0.8772599722173721\n",
      "Sensibilidad: 0.8770710391862211\n",
      "F1-score: 0.8771444731071429\n"
     ]
    },
    {
     "data": {
      "text/plain": [
       "<sklearn.metrics._plot.confusion_matrix.ConfusionMatrixDisplay at 0x18ebbeff4d0>"
      ]
     },
     "execution_count": 28,
     "metadata": {},
     "output_type": "execute_result"
    },
    {
     "data": {
      "image/png": "[encoded data removed]",
      "text/plain": [
       "<Figure size 640x480 with 2 Axes>"
      ]
     },
     "metadata": {},
     "output_type": "display_data"
    }
   ],
   "source": [
    "model = load('models/model_ada_boost_classifier.joblib')\n",
    "yhat = model.predict(X_test_pca)\n",
    "\n",
    "# Calcula y muestra métricas de evaluación\n",
    "print_metrics(y_test, yhat)"
   ]
  },
  {
   "cell_type": "markdown",
   "id": "a7978f49-f43b-4c33-9301-80454511716b",
   "metadata": {},
   "source": [
    "Llegamos a la conclusión de que el mejor modelo para predecir la veracidad es el RandomForest."
   ]
  }
 ],
 "metadata": {
  "kernelspec": {
   "display_name": "Python 3 (ipykernel)",
   "language": "python",
   "name": "python3"
  },
  "language_info": {
   "codemirror_mode": {
    "name": "ipython",
    "version": 3
   },
   "file_extension": ".py",
   "mimetype": "text/x-python",
   "name": "python",
   "nbconvert_exporter": "python",
   "pygments_lexer": "ipython3",
   "version": "3.11.8"
  }
 },
 "nbformat": 4,
 "nbformat_minor": 5
}
