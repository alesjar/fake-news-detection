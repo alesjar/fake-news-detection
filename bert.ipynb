{
 "cells": [
  {
   "cell_type": "markdown",
   "id": "6982442f-d5cf-4fae-b6ab-259995176375",
   "metadata": {},
   "source": [
    "# Clasificación de _fake news_ con BERT"
   ]
  },
  {
   "cell_type": "markdown",
   "id": "5d081ccc-f4fe-4eb5-ae8a-953f22616c0e",
   "metadata": {},
   "source": [
    "En este notebook vamos a ajustar un modelo preentrenado para tratar de clasificar las noticias falsas de un conjunto de datos predefinido de Kaggle. El modelo que hemos escogido es BERT, un modelo del lenguaje entrenado por Google y a disposición del público general en Kaggle."
   ]
  },
  {
   "cell_type": "code",
   "execution_count": 1,
   "id": "da1cde9c-827f-4712-bb35-fe9291637871",
   "metadata": {},
   "outputs": [
    {
     "name": "stderr",
     "output_type": "stream",
     "text": [
      "2024-01-12 09:11:22.650229: E external/local_xla/xla/stream_executor/cuda/cuda_dnn.cc:9261] Unable to register cuDNN factory: Attempting to register factory for plugin cuDNN when one has already been registered\n",
      "2024-01-12 09:11:22.650282: E external/local_xla/xla/stream_executor/cuda/cuda_fft.cc:607] Unable to register cuFFT factory: Attempting to register factory for plugin cuFFT when one has already been registered\n",
      "2024-01-12 09:11:22.703240: E external/local_xla/xla/stream_executor/cuda/cuda_blas.cc:1515] Unable to register cuBLAS factory: Attempting to register factory for plugin cuBLAS when one has already been registered\n",
      "2024-01-12 09:11:22.814283: I tensorflow/core/platform/cpu_feature_guard.cc:182] This TensorFlow binary is optimized to use available CPU instructions in performance-critical operations.\n",
      "To enable the following instructions: AVX2 FMA, in other operations, rebuild TensorFlow with the appropriate compiler flags.\n",
      "2024-01-12 09:11:24.005804: W tensorflow/compiler/tf2tensorrt/utils/py_utils.cc:38] TF-TRT Warning: Could not find TensorRT\n"
     ]
    }
   ],
   "source": [
    "# importamos las librerias de deep learning\n",
    "import tensorflow as tf\n",
    "import tensorflow_hub as hub\n",
    "import tensorflow_text as text\n",
    "from official.nlp import optimization  # to create AdamW optimizer\n",
    "\n",
    "# librerias para limpiar los datos\n",
    "import matplotlib.pyplot as plt\n",
    "import pandas as pd\n",
    "import string\n",
    "import numpy as np\n",
    "\n",
    "\n",
    "# librerias para preparar los datos para entrenar y visualizar resultados\n",
    "from sklearn.model_selection import train_test_split\n",
    "from sklearn.metrics import confusion_matrix, ConfusionMatrixDisplay\n",
    "from sklearn.metrics import jaccard_score\n",
    "from sklearn.metrics import accuracy_score\n",
    "from sklearn.metrics import precision_score\n",
    "from sklearn.metrics import recall_score\n",
    "from sklearn.metrics import f1_score\n",
    "from sklearn.metrics import roc_auc_score\n",
    "\n",
    "# guardar y cargar modelos\n",
    "from joblib import dump, load\n",
    "\n",
    "#tf.get_logger().setLevel('ERROR')"
   ]
  },
  {
   "cell_type": "code",
   "execution_count": 27,
   "id": "b40efb11-d019-4a9a-b9a9-91123a87e842",
   "metadata": {},
   "outputs": [],
   "source": [
    "# Cargamos el dataframe\n",
    "df = pd.read_csv(\"Data/WELFake_Dataset.csv\")"
   ]
  },
  {
   "cell_type": "code",
   "execution_count": 28,
   "id": "91694945-627e-4e92-9f89-f18cd8cb21ec",
   "metadata": {},
   "outputs": [
    {
     "data": {
      "text/html": [
       "<div>\n",
       "<style scoped>\n",
       "    .dataframe tbody tr th:only-of-type {\n",
       "        vertical-align: middle;\n",
       "    }\n",
       "\n",
       "    .dataframe tbody tr th {\n",
       "        vertical-align: top;\n",
       "    }\n",
       "\n",
       "    .dataframe thead th {\n",
       "        text-align: right;\n",
       "    }\n",
       "</style>\n",
       "<table border=\"1\" class=\"dataframe\">\n",
       "  <thead>\n",
       "    <tr style=\"text-align: right;\">\n",
       "      <th></th>\n",
       "      <th>Unnamed: 0</th>\n",
       "      <th>title</th>\n",
       "      <th>text</th>\n",
       "      <th>label</th>\n",
       "    </tr>\n",
       "  </thead>\n",
       "  <tbody>\n",
       "    <tr>\n",
       "      <th>0</th>\n",
       "      <td>0</td>\n",
       "      <td>LAW ENFORCEMENT ON HIGH ALERT Following Threat...</td>\n",
       "      <td>No comment is expected from Barack Obama Membe...</td>\n",
       "      <td>1</td>\n",
       "    </tr>\n",
       "    <tr>\n",
       "      <th>1</th>\n",
       "      <td>1</td>\n",
       "      <td>NaN</td>\n",
       "      <td>Did they post their votes for Hillary already?</td>\n",
       "      <td>1</td>\n",
       "    </tr>\n",
       "    <tr>\n",
       "      <th>2</th>\n",
       "      <td>2</td>\n",
       "      <td>UNBELIEVABLE! OBAMA’S ATTORNEY GENERAL SAYS MO...</td>\n",
       "      <td>Now, most of the demonstrators gathered last ...</td>\n",
       "      <td>1</td>\n",
       "    </tr>\n",
       "    <tr>\n",
       "      <th>3</th>\n",
       "      <td>3</td>\n",
       "      <td>Bobby Jindal, raised Hindu, uses story of Chri...</td>\n",
       "      <td>A dozen politically active pastors came here f...</td>\n",
       "      <td>0</td>\n",
       "    </tr>\n",
       "    <tr>\n",
       "      <th>4</th>\n",
       "      <td>4</td>\n",
       "      <td>SATAN 2: Russia unvelis an image of its terrif...</td>\n",
       "      <td>The RS-28 Sarmat missile, dubbed Satan 2, will...</td>\n",
       "      <td>1</td>\n",
       "    </tr>\n",
       "    <tr>\n",
       "      <th>...</th>\n",
       "      <td>...</td>\n",
       "      <td>...</td>\n",
       "      <td>...</td>\n",
       "      <td>...</td>\n",
       "    </tr>\n",
       "    <tr>\n",
       "      <th>72129</th>\n",
       "      <td>72129</td>\n",
       "      <td>Russians steal research on Trump in hack of U....</td>\n",
       "      <td>WASHINGTON (Reuters) - Hackers believed to be ...</td>\n",
       "      <td>0</td>\n",
       "    </tr>\n",
       "    <tr>\n",
       "      <th>72130</th>\n",
       "      <td>72130</td>\n",
       "      <td>WATCH: Giuliani Demands That Democrats Apolog...</td>\n",
       "      <td>You know, because in fantasyland Republicans n...</td>\n",
       "      <td>1</td>\n",
       "    </tr>\n",
       "    <tr>\n",
       "      <th>72131</th>\n",
       "      <td>72131</td>\n",
       "      <td>Migrants Refuse To Leave Train At Refugee Camp...</td>\n",
       "      <td>Migrants Refuse To Leave Train At Refugee Camp...</td>\n",
       "      <td>0</td>\n",
       "    </tr>\n",
       "    <tr>\n",
       "      <th>72132</th>\n",
       "      <td>72132</td>\n",
       "      <td>Trump tussle gives unpopular Mexican leader mu...</td>\n",
       "      <td>MEXICO CITY (Reuters) - Donald Trump’s combati...</td>\n",
       "      <td>0</td>\n",
       "    </tr>\n",
       "    <tr>\n",
       "      <th>72133</th>\n",
       "      <td>72133</td>\n",
       "      <td>Goldman Sachs Endorses Hillary Clinton For Pre...</td>\n",
       "      <td>Goldman Sachs Endorses Hillary Clinton For Pre...</td>\n",
       "      <td>1</td>\n",
       "    </tr>\n",
       "  </tbody>\n",
       "</table>\n",
       "<p>72134 rows × 4 columns</p>\n",
       "</div>"
      ],
      "text/plain": [
       "       Unnamed: 0                                              title  \\\n",
       "0               0  LAW ENFORCEMENT ON HIGH ALERT Following Threat...   \n",
       "1               1                                                NaN   \n",
       "2               2  UNBELIEVABLE! OBAMA’S ATTORNEY GENERAL SAYS MO...   \n",
       "3               3  Bobby Jindal, raised Hindu, uses story of Chri...   \n",
       "4               4  SATAN 2: Russia unvelis an image of its terrif...   \n",
       "...           ...                                                ...   \n",
       "72129       72129  Russians steal research on Trump in hack of U....   \n",
       "72130       72130   WATCH: Giuliani Demands That Democrats Apolog...   \n",
       "72131       72131  Migrants Refuse To Leave Train At Refugee Camp...   \n",
       "72132       72132  Trump tussle gives unpopular Mexican leader mu...   \n",
       "72133       72133  Goldman Sachs Endorses Hillary Clinton For Pre...   \n",
       "\n",
       "                                                    text  label  \n",
       "0      No comment is expected from Barack Obama Membe...      1  \n",
       "1         Did they post their votes for Hillary already?      1  \n",
       "2       Now, most of the demonstrators gathered last ...      1  \n",
       "3      A dozen politically active pastors came here f...      0  \n",
       "4      The RS-28 Sarmat missile, dubbed Satan 2, will...      1  \n",
       "...                                                  ...    ...  \n",
       "72129  WASHINGTON (Reuters) - Hackers believed to be ...      0  \n",
       "72130  You know, because in fantasyland Republicans n...      1  \n",
       "72131  Migrants Refuse To Leave Train At Refugee Camp...      0  \n",
       "72132  MEXICO CITY (Reuters) - Donald Trump’s combati...      0  \n",
       "72133  Goldman Sachs Endorses Hillary Clinton For Pre...      1  \n",
       "\n",
       "[72134 rows x 4 columns]"
      ]
     },
     "execution_count": 28,
     "metadata": {},
     "output_type": "execute_result"
    }
   ],
   "source": [
    "df"
   ]
  },
  {
   "cell_type": "markdown",
   "id": "2f2dc37e-6860-4196-9992-95a23c86d18f",
   "metadata": {},
   "source": [
    "Primero vemos el número de valores nulos y decidimos qué hacer con ellos:"
   ]
  },
  {
   "cell_type": "code",
   "execution_count": 29,
   "id": "da5d3224-13e0-4776-98bf-44bbe80403f2",
   "metadata": {},
   "outputs": [
    {
     "data": {
      "text/plain": [
       "Unnamed: 0      0\n",
       "title         558\n",
       "text           39\n",
       "label           0\n",
       "dtype: int64"
      ]
     },
     "execution_count": 29,
     "metadata": {},
     "output_type": "execute_result"
    }
   ],
   "source": [
    "df.isna().sum()"
   ]
  },
  {
   "cell_type": "code",
   "execution_count": 30,
   "id": "e24ec385-0383-452c-a947-00db2aea2504",
   "metadata": {
    "tags": []
   },
   "outputs": [],
   "source": [
    "# Tenemos un porcentaje muy pequeño de nulos, así que es recomendable eliminarlos\n",
    "df = df.dropna()"
   ]
  },
  {
   "cell_type": "code",
   "execution_count": 31,
   "id": "1753786b-3901-4e3c-a4c8-d725047b98d9",
   "metadata": {},
   "outputs": [],
   "source": [
    "# Eliminamos la columna de los ids del dataframe\n",
    "df = df.drop(\"Unnamed: 0\", axis=1)"
   ]
  },
  {
   "cell_type": "code",
   "execution_count": 32,
   "id": "13af3737-856f-4bae-a686-ad87f9fe4f74",
   "metadata": {},
   "outputs": [
    {
     "data": {
      "text/plain": [
       "label\n",
       "1    0.510351\n",
       "0    0.489649\n",
       "Name: proportion, dtype: float64"
      ]
     },
     "execution_count": 32,
     "metadata": {},
     "output_type": "execute_result"
    }
   ],
   "source": [
    "# vemos si el df está balanceado\n",
    "df.loc[:, 'label'].value_counts(normalize=True)"
   ]
  },
  {
   "cell_type": "code",
   "execution_count": 33,
   "id": "8f25ebde-4d07-482f-bb1c-085103ab1b08",
   "metadata": {},
   "outputs": [],
   "source": [
    "# pasamos el texto a minusculas\n",
    "df.loc[:, ['text', 'title']] = df.loc[:, ['text', 'title']].apply(lambda x: x.str.lower())"
   ]
  },
  {
   "cell_type": "code",
   "execution_count": 34,
   "id": "84981ba5-0241-4bfc-8a74-da83491b872b",
   "metadata": {},
   "outputs": [],
   "source": [
    "df.to_csv('Data/df_limpio.csv', index=False)"
   ]
  },
  {
   "cell_type": "markdown",
   "id": "6cedc8ca-3469-4be1-aa8b-6fa8bf68db4e",
   "metadata": {},
   "source": [
    "## Definición y entrenamiento de BERT"
   ]
  },
  {
   "cell_type": "markdown",
   "id": "96654690-45cd-44b6-95b2-f9ae946a6bf0",
   "metadata": {},
   "source": [
    "Como vamos a hacer varias pruebas, vamos primero a definir una función que defina el modelo. Hay varias versiones de BERT, así que las guardamos como variable global para poder cambiar de versión y hacer distintas pruebas."
   ]
  },
  {
   "cell_type": "code",
   "execution_count": 10,
   "id": "2e99cdac-21ae-47f8-bf8b-35498f1a6d40",
   "metadata": {},
   "outputs": [],
   "source": [
    "# escogemos un small bert para probar\n",
    "bert_model_name = 'small_bert/bert_en_uncased_L-6_H-128_A-2'\n",
    "\n",
    "map_name_to_handle = {\n",
    "    'bert_en_uncased_L-12_H-768_A-12':\n",
    "        'https://tfhub.dev/tensorflow/bert_en_uncased_L-12_H-768_A-12/3',\n",
    "    'bert_en_cased_L-12_H-768_A-12':\n",
    "        'https://tfhub.dev/tensorflow/bert_en_cased_L-12_H-768_A-12/3',\n",
    "    'bert_multi_cased_L-12_H-768_A-12':\n",
    "        'https://tfhub.dev/tensorflow/bert_multi_cased_L-12_H-768_A-12/3',\n",
    "    'small_bert/bert_en_uncased_L-2_H-128_A-2':\n",
    "        'https://tfhub.dev/tensorflow/small_bert/bert_en_uncased_L-2_H-128_A-2/1',\n",
    "    'small_bert/bert_en_uncased_L-2_H-256_A-4':\n",
    "        'https://tfhub.dev/tensorflow/small_bert/bert_en_uncased_L-2_H-256_A-4/1',\n",
    "    'small_bert/bert_en_uncased_L-2_H-512_A-8':\n",
    "        'https://tfhub.dev/tensorflow/small_bert/bert_en_uncased_L-2_H-512_A-8/1',\n",
    "    'small_bert/bert_en_uncased_L-2_H-768_A-12':\n",
    "        'https://tfhub.dev/tensorflow/small_bert/bert_en_uncased_L-2_H-768_A-12/1',\n",
    "    'small_bert/bert_en_uncased_L-4_H-128_A-2':\n",
    "        'https://tfhub.dev/tensorflow/small_bert/bert_en_uncased_L-4_H-128_A-2/1',\n",
    "    'small_bert/bert_en_uncased_L-4_H-256_A-4':\n",
    "        'https://tfhub.dev/tensorflow/small_bert/bert_en_uncased_L-4_H-256_A-4/1',\n",
    "    'small_bert/bert_en_uncased_L-4_H-512_A-8':\n",
    "        'https://tfhub.dev/tensorflow/small_bert/bert_en_uncased_L-4_H-512_A-8/1',\n",
    "    'small_bert/bert_en_uncased_L-4_H-768_A-12':\n",
    "        'https://tfhub.dev/tensorflow/small_bert/bert_en_uncased_L-4_H-768_A-12/1',\n",
    "    'small_bert/bert_en_uncased_L-6_H-128_A-2':\n",
    "        'https://tfhub.dev/tensorflow/small_bert/bert_en_uncased_L-6_H-128_A-2/1',\n",
    "    'small_bert/bert_en_uncased_L-6_H-256_A-4':\n",
    "        'https://tfhub.dev/tensorflow/small_bert/bert_en_uncased_L-6_H-256_A-4/1',\n",
    "    'small_bert/bert_en_uncased_L-6_H-512_A-8':\n",
    "        'https://tfhub.dev/tensorflow/small_bert/bert_en_uncased_L-6_H-512_A-8/1',\n",
    "    'small_bert/bert_en_uncased_L-6_H-768_A-12':\n",
    "        'https://tfhub.dev/tensorflow/small_bert/bert_en_uncased_L-6_H-768_A-12/1',\n",
    "    'small_bert/bert_en_uncased_L-8_H-128_A-2':\n",
    "        'https://tfhub.dev/tensorflow/small_bert/bert_en_uncased_L-8_H-128_A-2/1',\n",
    "    'small_bert/bert_en_uncased_L-8_H-256_A-4':\n",
    "        'https://tfhub.dev/tensorflow/small_bert/bert_en_uncased_L-8_H-256_A-4/1',\n",
    "    'small_bert/bert_en_uncased_L-8_H-512_A-8':\n",
    "        'https://tfhub.dev/tensorflow/small_bert/bert_en_uncased_L-8_H-512_A-8/1',\n",
    "    'small_bert/bert_en_uncased_L-8_H-768_A-12':\n",
    "        'https://tfhub.dev/tensorflow/small_bert/bert_en_uncased_L-8_H-768_A-12/1',\n",
    "    'small_bert/bert_en_uncased_L-10_H-128_A-2':\n",
    "        'https://tfhub.dev/tensorflow/small_bert/bert_en_uncased_L-10_H-128_A-2/1',\n",
    "    'small_bert/bert_en_uncased_L-10_H-256_A-4':\n",
    "        'https://tfhub.dev/tensorflow/small_bert/bert_en_uncased_L-10_H-256_A-4/1',\n",
    "    'small_bert/bert_en_uncased_L-10_H-512_A-8':\n",
    "        'https://tfhub.dev/tensorflow/small_bert/bert_en_uncased_L-10_H-512_A-8/1',\n",
    "    'small_bert/bert_en_uncased_L-10_H-768_A-12':\n",
    "        'https://tfhub.dev/tensorflow/small_bert/bert_en_uncased_L-10_H-768_A-12/1',\n",
    "    'small_bert/bert_en_uncased_L-12_H-128_A-2':\n",
    "        'https://tfhub.dev/tensorflow/small_bert/bert_en_uncased_L-12_H-128_A-2/1',\n",
    "    'small_bert/bert_en_uncased_L-12_H-256_A-4':\n",
    "        'https://tfhub.dev/tensorflow/small_bert/bert_en_uncased_L-12_H-256_A-4/1',\n",
    "    'small_bert/bert_en_uncased_L-12_H-512_A-8':\n",
    "        'https://tfhub.dev/tensorflow/small_bert/bert_en_uncased_L-12_H-512_A-8/1',\n",
    "    'small_bert/bert_en_uncased_L-12_H-768_A-12':\n",
    "        'https://tfhub.dev/tensorflow/small_bert/bert_en_uncased_L-12_H-768_A-12/1',\n",
    "    'albert_en_base':\n",
    "        'https://tfhub.dev/tensorflow/albert_en_base/2',\n",
    "    'electra_small':\n",
    "        'https://tfhub.dev/google/electra_small/2',\n",
    "    'electra_base':\n",
    "        'https://tfhub.dev/google/electra_base/2',\n",
    "    'experts_pubmed':\n",
    "        'https://tfhub.dev/google/experts/bert/pubmed/2',\n",
    "    'experts_wiki_books':\n",
    "        'https://tfhub.dev/google/experts/bert/wiki_books/2',\n",
    "    'talking-heads_base':\n",
    "        'https://tfhub.dev/tensorflow/talkheads_ggelu_bert_en_base/1',\n",
    "}\n",
    "\n",
    "map_model_to_preprocess = {\n",
    "    'bert_en_uncased_L-12_H-768_A-12':\n",
    "        'https://tfhub.dev/tensorflow/bert_en_uncased_preprocess/3',\n",
    "    'bert_en_cased_L-12_H-768_A-12':\n",
    "        'https://tfhub.dev/tensorflow/bert_en_cased_preprocess/3',\n",
    "    'small_bert/bert_en_uncased_L-2_H-128_A-2':\n",
    "        'https://tfhub.dev/tensorflow/bert_en_uncased_preprocess/3',\n",
    "    'small_bert/bert_en_uncased_L-2_H-256_A-4':\n",
    "        'https://tfhub.dev/tensorflow/bert_en_uncased_preprocess/3',\n",
    "    'small_bert/bert_en_uncased_L-2_H-512_A-8':\n",
    "        'https://tfhub.dev/tensorflow/bert_en_uncased_preprocess/3',\n",
    "    'small_bert/bert_en_uncased_L-2_H-768_A-12':\n",
    "        'https://tfhub.dev/tensorflow/bert_en_uncased_preprocess/3',\n",
    "    'small_bert/bert_en_uncased_L-4_H-128_A-2':\n",
    "        'https://tfhub.dev/tensorflow/bert_en_uncased_preprocess/3',\n",
    "    'small_bert/bert_en_uncased_L-4_H-256_A-4':\n",
    "        'https://tfhub.dev/tensorflow/bert_en_uncased_preprocess/3',\n",
    "    'small_bert/bert_en_uncased_L-4_H-512_A-8':\n",
    "        'https://tfhub.dev/tensorflow/bert_en_uncased_preprocess/3',\n",
    "    'small_bert/bert_en_uncased_L-4_H-768_A-12':\n",
    "        'https://tfhub.dev/tensorflow/bert_en_uncased_preprocess/3',\n",
    "    'small_bert/bert_en_uncased_L-6_H-128_A-2':\n",
    "        'https://tfhub.dev/tensorflow/bert_en_uncased_preprocess/3',\n",
    "    'small_bert/bert_en_uncased_L-6_H-256_A-4':\n",
    "        'https://tfhub.dev/tensorflow/bert_en_uncased_preprocess/3',\n",
    "    'small_bert/bert_en_uncased_L-6_H-512_A-8':\n",
    "        'https://tfhub.dev/tensorflow/bert_en_uncased_preprocess/3',\n",
    "    'small_bert/bert_en_uncased_L-6_H-768_A-12':\n",
    "        'https://tfhub.dev/tensorflow/bert_en_uncased_preprocess/3',\n",
    "    'small_bert/bert_en_uncased_L-8_H-128_A-2':\n",
    "        'https://tfhub.dev/tensorflow/bert_en_uncased_preprocess/3',\n",
    "    'small_bert/bert_en_uncased_L-8_H-256_A-4':\n",
    "        'https://tfhub.dev/tensorflow/bert_en_uncased_preprocess/3',\n",
    "    'small_bert/bert_en_uncased_L-8_H-512_A-8':\n",
    "        'https://tfhub.dev/tensorflow/bert_en_uncased_preprocess/3',\n",
    "    'small_bert/bert_en_uncased_L-8_H-768_A-12':\n",
    "        'https://tfhub.dev/tensorflow/bert_en_uncased_preprocess/3',\n",
    "    'small_bert/bert_en_uncased_L-10_H-128_A-2':\n",
    "        'https://tfhub.dev/tensorflow/bert_en_uncased_preprocess/3',\n",
    "    'small_bert/bert_en_uncased_L-10_H-256_A-4':\n",
    "        'https://tfhub.dev/tensorflow/bert_en_uncased_preprocess/3',\n",
    "    'small_bert/bert_en_uncased_L-10_H-512_A-8':\n",
    "        'https://tfhub.dev/tensorflow/bert_en_uncased_preprocess/3',\n",
    "    'small_bert/bert_en_uncased_L-10_H-768_A-12':\n",
    "        'https://tfhub.dev/tensorflow/bert_en_uncased_preprocess/3',\n",
    "    'small_bert/bert_en_uncased_L-12_H-128_A-2':\n",
    "        'https://tfhub.dev/tensorflow/bert_en_uncased_preprocess/3',\n",
    "    'small_bert/bert_en_uncased_L-12_H-256_A-4':\n",
    "        'https://tfhub.dev/tensorflow/bert_en_uncased_preprocess/3',\n",
    "    'small_bert/bert_en_uncased_L-12_H-512_A-8':\n",
    "        'https://tfhub.dev/tensorflow/bert_en_uncased_preprocess/3',\n",
    "    'small_bert/bert_en_uncased_L-12_H-768_A-12':\n",
    "        'https://tfhub.dev/tensorflow/bert_en_uncased_preprocess/3',\n",
    "    'bert_multi_cased_L-12_H-768_A-12':\n",
    "        'https://tfhub.dev/tensorflow/bert_multi_cased_preprocess/3',\n",
    "    'albert_en_base':\n",
    "        'https://tfhub.dev/tensorflow/albert_en_preprocess/3',\n",
    "    'electra_small':\n",
    "        'https://tfhub.dev/tensorflow/bert_en_uncased_preprocess/3',\n",
    "    'electra_base':\n",
    "        'https://tfhub.dev/tensorflow/bert_en_uncased_preprocess/3',\n",
    "    'experts_pubmed':\n",
    "        'https://tfhub.dev/tensorflow/bert_en_uncased_preprocess/3',\n",
    "    'experts_wiki_books':\n",
    "        'https://tfhub.dev/tensorflow/bert_en_uncased_preprocess/3',\n",
    "    'talking-heads_base':\n",
    "        'https://tfhub.dev/tensorflow/bert_en_uncased_preprocess/3',\n",
    "}"
   ]
  },
  {
   "cell_type": "code",
   "execution_count": 4,
   "id": "0b897e1e-3e4f-4557-a037-fb058c96dd56",
   "metadata": {},
   "outputs": [],
   "source": [
    "# funcion que define el modelo\n",
    "def define_bert(bert_model_name, trainable=True):\n",
    "    # seleccionamos url del modelo que queremos\n",
    "    tfhub_handle_encoder = map_name_to_handle[bert_model_name]\n",
    "    tfhub_handle_preprocess = map_model_to_preprocess[bert_model_name]\n",
    "    \n",
    "    # creamos las capas de preprocesado y encoding\n",
    "    bert_preprocess = hub.KerasLayer(tfhub_handle_preprocess)\n",
    "    bert_encoder = hub.KerasLayer(tfhub_handle_encoder, trainable = trainable, name='BERT_encoder')\n",
    "    \n",
    "    # creamos la capa de entrada de texto y la arquitectura del modelo\n",
    "    text_input = tf.keras.layers.Input(shape=(), dtype=tf.string, name='text')\n",
    "    preprocessed_text = bert_preprocess(text_input)\n",
    "    outputs = bert_encoder(preprocessed_text)\n",
    "    \n",
    "    # capa de dropout y capa densa de la red\n",
    "    l = tf.keras.layers.Dropout(0.1, name = 'Dropout')(outputs['pooled_output'])\n",
    "    l1 = tf.keras.layers.Dense(1, activation=None, name='output')(l)\n",
    "    \n",
    "    # modelo final \n",
    "    model = tf.keras.Model(text_input, l1)\n",
    "    print(model.summary())\n",
    "    return model"
   ]
  },
  {
   "cell_type": "code",
   "execution_count": 5,
   "id": "55065237-4f6b-4a3b-8a89-2beeba7e3eee",
   "metadata": {},
   "outputs": [],
   "source": [
    "def train_bert(model, X_train, y_train, epochs=5):\n",
    "    # creamos el optimizador que utiliza bert\n",
    "    steps_per_epoch = len(X_train)\n",
    "    num_train_steps = steps_per_epoch * epochs\n",
    "    num_warmup_steps = int(0.1*num_train_steps)\n",
    "    init_lr = 3e-5\n",
    "    optimizer = optimization.create_optimizer(init_lr=init_lr,\n",
    "                                              num_train_steps=num_train_steps,\n",
    "                                              num_warmup_steps=num_warmup_steps,\n",
    "                                              optimizer_type='adamw')\n",
    "    \n",
    "    # definimos la funcion de perdida y la metrica a seguir\n",
    "    loss = tf.keras.losses.BinaryCrossentropy(from_logits=True)\n",
    "    metrics = tf.metrics.BinaryAccuracy()\n",
    "    model.compile(optimizer=optimizer,\n",
    "                         loss=loss,\n",
    "                         metrics=metrics)\n",
    "    #print(steps_per_epoch, num_train_steps, num_warmup_steps)\n",
    "    model.fit(X_train, y_train, epochs = epochs)"
   ]
  },
  {
   "cell_type": "markdown",
   "id": "2a969d4d-880a-4e59-99d2-69d0aa8726de",
   "metadata": {},
   "source": [
    "## Prueba rápida"
   ]
  },
  {
   "cell_type": "markdown",
   "id": "57ef4290-dc39-40c0-92b0-ac97e7cc07f3",
   "metadata": {},
   "source": [
    "Primero, vamos a hacer una prueba para entrenar el modelo sin hacer ninguna modificación al texto de las noticias. Esto es posible porque el modelo ya incluye su propio preprocesado del texto y genera sus propios embeddings en base a su entrenamiento. En específico, BERT es un modelo bidireccional que tiene en cuenta el contexto anterior y posterior de una palabra y en base a ello genera un vector que la representa. BERT ha sido entrenado sobre la Wikipedia en inglés y sobre libros de BookCorpus."
   ]
  },
  {
   "cell_type": "code",
   "execution_count": 17,
   "id": "bcaa9120-ed6f-455e-bb71-97eeb7255e34",
   "metadata": {},
   "outputs": [],
   "source": [
    "# quitamos el titulo\n",
    "df = df.drop(\"title\", axis=1)"
   ]
  },
  {
   "cell_type": "code",
   "execution_count": 18,
   "id": "4b16d3b9-2d2e-4c7c-b3d2-b12e787be4af",
   "metadata": {},
   "outputs": [],
   "source": [
    "# dividimos df\n",
    "X_train, X_test, y_train, y_test = train_test_split(df['text'], df['label'].to_numpy(), test_size = 0.3, stratify = df['label'].to_numpy(), random_state = 42)"
   ]
  },
  {
   "cell_type": "code",
   "execution_count": null,
   "id": "9abfd0b5-78d2-43ce-850e-9f72bb6681e5",
   "metadata": {},
   "outputs": [],
   "source": [
    "# entrenamos el modelo\n",
    "model = define_bert('small_bert/bert_en_uncased_L-6_H-128_A-2')\n",
    "train_bert(model, X_train, y_train, epochs = 5)"
   ]
  },
  {
   "cell_type": "raw",
   "id": "958d7cc2-0fd3-4b7e-a1e9-fed403b6d316",
   "metadata": {},
   "source": [
    "Epoch 1/5\n",
    "1565/1565 [==============================] - 377s 233ms/step - loss: 0.5807 - binary_accuracy: 0.6567\n",
    "Epoch 2/5\n",
    "1565/1565 [==============================] - 367s 234ms/step - loss: 0.2454 - binary_accuracy: 0.8985\n",
    "Epoch 3/5\n",
    "1565/1565 [==============================] - 364s 232ms/step - loss: 0.1396 - binary_accuracy: 0.9478\n",
    "Epoch 4/5\n",
    "1565/1565 [==============================] - 352s 225ms/step - loss: 0.1054 - binary_accuracy: 0.9614\n",
    "Epoch 5/5\n",
    "1565/1565 [==============================] - 358s 229ms/step - loss: 0.0860 - binary_accuracy: 0.9706"
   ]
  },
  {
   "cell_type": "code",
   "execution_count": null,
   "id": "970662c2-8015-44bf-850d-cfce6fd26eb1",
   "metadata": {},
   "outputs": [],
   "source": [
    "# lo guardamos usando joblib\n",
    "model.save('models/smallbert_en_uncased_L-6_H-128_A-2')"
   ]
  },
  {
   "cell_type": "code",
   "execution_count": 15,
   "id": "9ca42da0-388e-45ce-87ed-7374f1b574fe",
   "metadata": {},
   "outputs": [],
   "source": [
    "# lo cargamos para no tener que entrenarlo de nuevo\n",
    "model = tf.keras.models.load_model('models/smallbert_en_uncased_L-6_H-128_A-2', compile=False)"
   ]
  },
  {
   "cell_type": "code",
   "execution_count": null,
   "id": "aff4af9a-de40-465f-995c-9ab2dff8b4b2",
   "metadata": {
    "scrolled": true
   },
   "outputs": [],
   "source": [
    "# predecimos sobre X_test\n",
    "yhat = model.predict(X_test)\n",
    "yhatt = yhat.flatten()\n",
    "\n",
    "# el modelo nos devuelve números positivos y negativos e interpretamos que cuanto más grandes más probabilidades de ser 1\n",
    "yhatt"
   ]
  },
  {
   "cell_type": "code",
   "execution_count": 28,
   "id": "bbe9172f-0ee3-4166-9fa1-83c6d04ccc76",
   "metadata": {},
   "outputs": [
    {
     "name": "stdout",
     "output_type": "stream",
     "text": [
      "Jaccard Index: 0.9446356548569446\n",
      "Accuracy: 0.9715310781846985\n",
      "Precisión: 0.9716201624117277\n",
      "Recall: 0.9718014393057571\n",
      "F1-score: 0.9715296688763269\n"
     ]
    },
    {
     "data": {
      "text/plain": [
       "<sklearn.metrics._plot.confusion_matrix.ConfusionMatrixDisplay at 0x7fc8d1685ed0>"
      ]
     },
     "execution_count": 28,
     "metadata": {},
     "output_type": "execute_result"
    },
    {
     "data": {
      "image/png": "[encoded data removed]",
      "text/plain": [
       "<Figure size 640x480 with 2 Axes>"
      ]
     },
     "metadata": {},
     "output_type": "display_data"
    }
   ],
   "source": [
    "# Vemos las métricas\n",
    "print(\"Jaccard Index:\", jaccard_score(y_test, yhatt, average = \"macro\"))\n",
    "print(\"Accuracy:\"     , accuracy_score(y_test, yhatt))\n",
    "print(\"Precisión:\"    , precision_score(y_test, yhatt, average = \"macro\"))\n",
    "print(\"Recall:\" , recall_score(y_test, yhatt, average = \"macro\"))\n",
    "print(\"F1-score:\"     , f1_score(y_test, yhatt, average = \"macro\"))\n",
    "\n",
    "cm = confusion_matrix(y_test, yhatt)\n",
    "disp = ConfusionMatrixDisplay(confusion_matrix=cm)\n",
    "disp.plot()"
   ]
  },
  {
   "cell_type": "markdown",
   "id": "5958b217-bbbb-4360-89b7-37e56c5f638a",
   "metadata": {},
   "source": [
    "Incluso en una prueba rápida, con una versión pequeña del modelo que ha tardado unos 35 minutos en entrenar, tenemos una gran precisión, mucho mayor que la de los modelos de machine learning."
   ]
  },
  {
   "cell_type": "markdown",
   "id": "87a8d1ac-0d19-4bfd-a0da-6270e42556ce",
   "metadata": {},
   "source": [
    "## Función entrenadora\n",
    "Por comodidad, vamos a definir una función que haga todos los pasos anteriores de seguido, y así poder aligerar el código"
   ]
  },
  {
   "cell_type": "code",
   "execution_count": 5,
   "id": "81f09787-8320-41a4-aff1-42ea2e5df9e5",
   "metadata": {},
   "outputs": [],
   "source": [
    "def train_fit_predict_bert(bert_model_name, X_train, y_train, X_test, y_test, epochs, trainable=True, extra_name=None):\n",
    "    model = define_bert(bert_model_name, trainable)\n",
    "    train_bert(model, X_train, y_train, epochs)\n",
    "    model.save(f'models/{extra_name}_small{bert_model_name.split(\"/\")[1]}')\n",
    "    yhat = model.predict(X_test).flatten()\n",
    "    return yhat"
   ]
  },
  {
   "cell_type": "code",
   "execution_count": 6,
   "id": "6449e202-e0a3-4e25-8232-474157fb0d83",
   "metadata": {},
   "outputs": [],
   "source": [
    "# definimos también una para las métricas\n",
    "def print_metrics(yhat, y_test):\n",
    "    print(\"Jaccard Index:\", jaccard_score(y_test, yhat, average = \"macro\"))\n",
    "    print(\"Accuracy:\"     , accuracy_score(y_test, yhat))\n",
    "    print(\"Precisión:\"    , precision_score(y_test, yhat, average = \"macro\"))\n",
    "    print(\"Recall:\" , recall_score(y_test, yhat, average = \"macro\"))\n",
    "    print(\"F1-score:\"     , f1_score(y_test, yhat, average = \"macro\"))\n",
    "    \n",
    "    cm = confusion_matrix(y_test, yhat)\n",
    "    disp = ConfusionMatrixDisplay(confusion_matrix=cm)\n",
    "    disp.plot()"
   ]
  },
  {
   "cell_type": "markdown",
   "id": "17ed8783-4f0f-4f54-8e82-5774d8b6cf2e",
   "metadata": {},
   "source": [
    "## Prueba limpiando los datos"
   ]
  },
  {
   "cell_type": "code",
   "execution_count": 35,
   "id": "ff901a47-e152-4235-97f1-ab35c73c0f51",
   "metadata": {},
   "outputs": [],
   "source": [
    "df = pd.read_csv('Data/df_limpio.csv')"
   ]
  },
  {
   "cell_type": "code",
   "execution_count": 36,
   "id": "12acf0d3-2f91-4bd0-918e-77ae45821b93",
   "metadata": {},
   "outputs": [
    {
     "data": {
      "text/html": [
       "<div>\n",
       "<style scoped>\n",
       "    .dataframe tbody tr th:only-of-type {\n",
       "        vertical-align: middle;\n",
       "    }\n",
       "\n",
       "    .dataframe tbody tr th {\n",
       "        vertical-align: top;\n",
       "    }\n",
       "\n",
       "    .dataframe thead th {\n",
       "        text-align: right;\n",
       "    }\n",
       "</style>\n",
       "<table border=\"1\" class=\"dataframe\">\n",
       "  <thead>\n",
       "    <tr style=\"text-align: right;\">\n",
       "      <th></th>\n",
       "      <th>title</th>\n",
       "      <th>text</th>\n",
       "      <th>label</th>\n",
       "    </tr>\n",
       "  </thead>\n",
       "  <tbody>\n",
       "    <tr>\n",
       "      <th>0</th>\n",
       "      <td>law enforcement on high alert following threat...</td>\n",
       "      <td>no comment is expected from barack obama membe...</td>\n",
       "      <td>1</td>\n",
       "    </tr>\n",
       "    <tr>\n",
       "      <th>1</th>\n",
       "      <td>unbelievable! obama’s attorney general says mo...</td>\n",
       "      <td>now, most of the demonstrators gathered last ...</td>\n",
       "      <td>1</td>\n",
       "    </tr>\n",
       "    <tr>\n",
       "      <th>2</th>\n",
       "      <td>bobby jindal, raised hindu, uses story of chri...</td>\n",
       "      <td>a dozen politically active pastors came here f...</td>\n",
       "      <td>0</td>\n",
       "    </tr>\n",
       "    <tr>\n",
       "      <th>3</th>\n",
       "      <td>satan 2: russia unvelis an image of its terrif...</td>\n",
       "      <td>the rs-28 sarmat missile, dubbed satan 2, will...</td>\n",
       "      <td>1</td>\n",
       "    </tr>\n",
       "    <tr>\n",
       "      <th>4</th>\n",
       "      <td>about time! christian group sues amazon and sp...</td>\n",
       "      <td>all we can say on this one is it s about time ...</td>\n",
       "      <td>1</td>\n",
       "    </tr>\n",
       "    <tr>\n",
       "      <th>...</th>\n",
       "      <td>...</td>\n",
       "      <td>...</td>\n",
       "      <td>...</td>\n",
       "    </tr>\n",
       "    <tr>\n",
       "      <th>71532</th>\n",
       "      <td>russians steal research on trump in hack of u....</td>\n",
       "      <td>washington (reuters) - hackers believed to be ...</td>\n",
       "      <td>0</td>\n",
       "    </tr>\n",
       "    <tr>\n",
       "      <th>71533</th>\n",
       "      <td>watch: giuliani demands that democrats apolog...</td>\n",
       "      <td>you know, because in fantasyland republicans n...</td>\n",
       "      <td>1</td>\n",
       "    </tr>\n",
       "    <tr>\n",
       "      <th>71534</th>\n",
       "      <td>migrants refuse to leave train at refugee camp...</td>\n",
       "      <td>migrants refuse to leave train at refugee camp...</td>\n",
       "      <td>0</td>\n",
       "    </tr>\n",
       "    <tr>\n",
       "      <th>71535</th>\n",
       "      <td>trump tussle gives unpopular mexican leader mu...</td>\n",
       "      <td>mexico city (reuters) - donald trump’s combati...</td>\n",
       "      <td>0</td>\n",
       "    </tr>\n",
       "    <tr>\n",
       "      <th>71536</th>\n",
       "      <td>goldman sachs endorses hillary clinton for pre...</td>\n",
       "      <td>goldman sachs endorses hillary clinton for pre...</td>\n",
       "      <td>1</td>\n",
       "    </tr>\n",
       "  </tbody>\n",
       "</table>\n",
       "<p>71537 rows × 3 columns</p>\n",
       "</div>"
      ],
      "text/plain": [
       "                                                   title  \\\n",
       "0      law enforcement on high alert following threat...   \n",
       "1      unbelievable! obama’s attorney general says mo...   \n",
       "2      bobby jindal, raised hindu, uses story of chri...   \n",
       "3      satan 2: russia unvelis an image of its terrif...   \n",
       "4      about time! christian group sues amazon and sp...   \n",
       "...                                                  ...   \n",
       "71532  russians steal research on trump in hack of u....   \n",
       "71533   watch: giuliani demands that democrats apolog...   \n",
       "71534  migrants refuse to leave train at refugee camp...   \n",
       "71535  trump tussle gives unpopular mexican leader mu...   \n",
       "71536  goldman sachs endorses hillary clinton for pre...   \n",
       "\n",
       "                                                    text  label  \n",
       "0      no comment is expected from barack obama membe...      1  \n",
       "1       now, most of the demonstrators gathered last ...      1  \n",
       "2      a dozen politically active pastors came here f...      0  \n",
       "3      the rs-28 sarmat missile, dubbed satan 2, will...      1  \n",
       "4      all we can say on this one is it s about time ...      1  \n",
       "...                                                  ...    ...  \n",
       "71532  washington (reuters) - hackers believed to be ...      0  \n",
       "71533  you know, because in fantasyland republicans n...      1  \n",
       "71534  migrants refuse to leave train at refugee camp...      0  \n",
       "71535  mexico city (reuters) - donald trump’s combati...      0  \n",
       "71536  goldman sachs endorses hillary clinton for pre...      1  \n",
       "\n",
       "[71537 rows x 3 columns]"
      ]
     },
     "execution_count": 36,
     "metadata": {},
     "output_type": "execute_result"
    }
   ],
   "source": [
    "df"
   ]
  },
  {
   "cell_type": "code",
   "execution_count": 37,
   "id": "055aed80-9495-4b6c-b636-872f33e24c55",
   "metadata": {},
   "outputs": [],
   "source": [
    "# quitamos el titulo\n",
    "df = df.drop(\"title\", axis=1)"
   ]
  },
  {
   "cell_type": "code",
   "execution_count": 38,
   "id": "fc51c72d-5bd5-4e90-99ef-80b6db4ab1c7",
   "metadata": {
    "tags": []
   },
   "outputs": [],
   "source": [
    "# limpieza de texto quitando signos de puntuación\n",
    "df.loc[:, 'text'] = df.loc[:, 'text'].str.lower().str.translate(str.maketrans('', '', string.punctuation))"
   ]
  },
  {
   "cell_type": "code",
   "execution_count": 39,
   "id": "6db0b405-780d-4fd7-af76-f086c564612f",
   "metadata": {},
   "outputs": [
    {
     "data": {
      "text/html": [
       "<div>\n",
       "<style scoped>\n",
       "    .dataframe tbody tr th:only-of-type {\n",
       "        vertical-align: middle;\n",
       "    }\n",
       "\n",
       "    .dataframe tbody tr th {\n",
       "        vertical-align: top;\n",
       "    }\n",
       "\n",
       "    .dataframe thead th {\n",
       "        text-align: right;\n",
       "    }\n",
       "</style>\n",
       "<table border=\"1\" class=\"dataframe\">\n",
       "  <thead>\n",
       "    <tr style=\"text-align: right;\">\n",
       "      <th></th>\n",
       "      <th>text</th>\n",
       "      <th>label</th>\n",
       "    </tr>\n",
       "  </thead>\n",
       "  <tbody>\n",
       "    <tr>\n",
       "      <th>0</th>\n",
       "      <td>no comment is expected from barack obama membe...</td>\n",
       "      <td>1</td>\n",
       "    </tr>\n",
       "    <tr>\n",
       "      <th>1</th>\n",
       "      <td>now most of the demonstrators gathered last n...</td>\n",
       "      <td>1</td>\n",
       "    </tr>\n",
       "    <tr>\n",
       "      <th>2</th>\n",
       "      <td>a dozen politically active pastors came here f...</td>\n",
       "      <td>0</td>\n",
       "    </tr>\n",
       "    <tr>\n",
       "      <th>3</th>\n",
       "      <td>the rs28 sarmat missile dubbed satan 2 will re...</td>\n",
       "      <td>1</td>\n",
       "    </tr>\n",
       "    <tr>\n",
       "      <th>4</th>\n",
       "      <td>all we can say on this one is it s about time ...</td>\n",
       "      <td>1</td>\n",
       "    </tr>\n",
       "  </tbody>\n",
       "</table>\n",
       "</div>"
      ],
      "text/plain": [
       "                                                text  label\n",
       "0  no comment is expected from barack obama membe...      1\n",
       "1   now most of the demonstrators gathered last n...      1\n",
       "2  a dozen politically active pastors came here f...      0\n",
       "3  the rs28 sarmat missile dubbed satan 2 will re...      1\n",
       "4  all we can say on this one is it s about time ...      1"
      ]
     },
     "execution_count": 39,
     "metadata": {},
     "output_type": "execute_result"
    }
   ],
   "source": [
    "df.head()"
   ]
  },
  {
   "cell_type": "code",
   "execution_count": 40,
   "id": "b39cbf09-d1ee-475e-9b10-7f445c71d086",
   "metadata": {
    "scrolled": true
   },
   "outputs": [],
   "source": [
    "# dividimos df\n",
    "X_train, X_test, y_train, y_test = train_test_split(df['text'], df['label'].to_numpy(), test_size = 0.3, stratify = df['label'].to_numpy(), random_state = 42)"
   ]
  },
  {
   "cell_type": "code",
   "execution_count": null,
   "id": "b9421a57-7911-4a63-8c01-07aaaad122c0",
   "metadata": {},
   "outputs": [],
   "source": [
    "# llamamos a nuestra funcion\n",
    "yhat = train_fit_predict_bert('small_bert/bert_en_uncased_L-6_H-128_A-2', X_train, y_train, X_test, y_test, epochs = 5, extra_name = 'nopunct')"
   ]
  },
  {
   "cell_type": "raw",
   "id": "73a766dc-7f4d-419e-ac8c-f43c3d8b0101",
   "metadata": {},
   "source": [
    "Model: \"model\"\n",
    "__________________________________________________________________________________________________\n",
    " Layer (type)                Output Shape                 Param #   Connected to                  \n",
    "==================================================================================================\n",
    " text (InputLayer)           [(None,)]                    0         []                            \n",
    "                                                                                                  \n",
    " keras_layer (KerasLayer)    {'input_mask': (None, 128)   0         ['text[0][0]']                \n",
    "                             , 'input_type_ids': (None,                                           \n",
    "                              128),                                                               \n",
    "                              'input_word_ids': (None,                                            \n",
    "                             128)}                                                                \n",
    "                                                                                                  \n",
    " BERT_encoder (KerasLayer)   {'default': (None, 128),     5179009   ['keras_layer[0][0]',         \n",
    "                              'encoder_outputs': [(None              'keras_layer[0][1]',         \n",
    "                             , 128, 128),                            'keras_layer[0][2]']         \n",
    "                              (None, 128, 128),                                                   \n",
    "                              (None, 128, 128),                                                   \n",
    "                              (None, 128, 128),                                                   \n",
    "                              (None, 128, 128),                                                   \n",
    "                              (None, 128, 128)],                                                  \n",
    "                              'pooled_output': (None, 1                                           \n",
    "                             28),                                                                 \n",
    "                              'sequence_output': (None,                                           \n",
    "                              128, 128)}                                                          \n",
    "                                                                                                  \n",
    " Dropout (Dropout)           (None, 128)                  0         ['BERT_encoder[0][7]']        \n",
    "                                                                                                  \n",
    " output (Dense)              (None, 1)                    129       ['Dropout[0][0]']             \n",
    "                                                                                                  \n",
    "==================================================================================================\n",
    "Total params: 5179138 (19.76 MB)\n",
    "Trainable params: 5179137 (19.76 MB)\n",
    "Non-trainable params: 1 (1.00 Byte)\n",
    "__________________________________________________________________________________________________\n",
    "None\n",
    "5\n",
    "Epoch 1/5\n",
    "1565/1565 [==============================] - 364s 226ms/step - loss: 0.6864 - binary_accuracy: 0.5328\n",
    "Epoch 2/5\n",
    "1565/1565 [==============================] - 353s 225ms/step - loss: 0.3261 - binary_accuracy: 0.8581\n",
    "Epoch 3/5\n",
    "1565/1565 [==============================] - 349s 223ms/step - loss: 0.1938 - binary_accuracy: 0.9230\n",
    "Epoch 4/5\n",
    "1565/1565 [==============================] - 349s 223ms/step - loss: 0.1410 - binary_accuracy: 0.9456\n",
    "Epoch 5/5\n",
    "1565/1565 [==============================] - 349s 223ms/step - loss: 0.1150 - binary_accuracy: 0.9582\n",
    "INFO:tensorflow:Assets written to: models/nopunct_smallbert_en_uncased_L-6_H-128_A-2/assets\n",
    "INFO:tensorflow:Assets written to: models/nopunct_smallbert_en_uncased_L-6_H-128_A-2/assets\n",
    "671/671 [==============================] - 114s 169ms/step"
   ]
  },
  {
   "cell_type": "markdown",
   "id": "45aadbf8-9e20-4437-bad7-873d9d018a34",
   "metadata": {},
   "source": [
    "Como antes, cargamos el modelo que ha guardado el código anterior para poder ejecutarlo."
   ]
  },
  {
   "cell_type": "code",
   "execution_count": 15,
   "id": "625e01e8-967d-4cfe-a5d0-ad7613db6fe4",
   "metadata": {},
   "outputs": [],
   "source": [
    "# lo cargamos para no tener que entrenarlo de nuevo\n",
    "extra_name = 'nopunct'\n",
    "bert_model_name = 'small_bert/bert_en_uncased_L-6_H-128_A-2'\n",
    "path = f'models/{extra_name}_small{bert_model_name.split(\"/\")[1]}'\n",
    "model = tf.keras.models.load_model(path, compile=False)\n",
    "\n",
    "# predecimos sobre X_test\n",
    "yhat = model.predict(X_test).flatten()"
   ]
  },
  {
   "cell_type": "code",
   "execution_count": 42,
   "id": "cd3e9d0f-1079-4721-9e22-fbdd51cb5f48",
   "metadata": {},
   "outputs": [
    {
     "name": "stdout",
     "output_type": "stream",
     "text": [
      "Jaccard Index: 0.930209380020016\n",
      "Accuracy: 0.9638896654552231\n",
      "Precisión: 0.9646258859657837\n",
      "Recall: 0.9635453655966887\n",
      "F1-score: 0.9638412914727515\n"
     ]
    },
    {
     "data": {
      "image/png": "[encoded data removed]",
      "text/plain": [
       "<Figure size 640x480 with 2 Axes>"
      ]
     },
     "metadata": {},
     "output_type": "display_data"
    }
   ],
   "source": [
    "print_metrics(np.where(yhat > 0.5, 1, 0), y_test)"
   ]
  },
  {
   "cell_type": "markdown",
   "id": "c241a730-8b5b-4ba5-872e-0e36756737ae",
   "metadata": {},
   "source": [
    "Sorprendentemente, los resultados no mejoran significativamente cuando limpiamos los datos. Esto es porque el preprocesamiento de BERT ya hace esta función por nosotros."
   ]
  },
  {
   "cell_type": "markdown",
   "id": "2a5e9f02-214f-4491-ad07-b3b7b97628bb",
   "metadata": {},
   "source": [
    "## Prueba con la columna `title` incluída."
   ]
  },
  {
   "cell_type": "code",
   "execution_count": 43,
   "id": "c34c5d87-2e34-4020-b399-70280e76319e",
   "metadata": {},
   "outputs": [],
   "source": [
    "df = pd.read_csv('Data/df_limpio.csv')"
   ]
  },
  {
   "cell_type": "code",
   "execution_count": 44,
   "id": "6bbf5889-7b86-412b-9158-f176c32577a2",
   "metadata": {},
   "outputs": [],
   "source": [
    "df.loc[:, 'text'] = df.loc[:, ['title', 'text']].sum(axis = 1).iloc[0]"
   ]
  },
  {
   "cell_type": "code",
   "execution_count": 46,
   "id": "06f71a1b-68bb-4da9-ba52-a8bffcf85ddd",
   "metadata": {},
   "outputs": [
    {
     "data": {
      "text/html": [
       "<div>\n",
       "<style scoped>\n",
       "    .dataframe tbody tr th:only-of-type {\n",
       "        vertical-align: middle;\n",
       "    }\n",
       "\n",
       "    .dataframe tbody tr th {\n",
       "        vertical-align: top;\n",
       "    }\n",
       "\n",
       "    .dataframe thead th {\n",
       "        text-align: right;\n",
       "    }\n",
       "</style>\n",
       "<table border=\"1\" class=\"dataframe\">\n",
       "  <thead>\n",
       "    <tr style=\"text-align: right;\">\n",
       "      <th></th>\n",
       "      <th>title</th>\n",
       "      <th>text</th>\n",
       "      <th>label</th>\n",
       "    </tr>\n",
       "  </thead>\n",
       "  <tbody>\n",
       "    <tr>\n",
       "      <th>0</th>\n",
       "      <td>law enforcement on high alert following threat...</td>\n",
       "      <td>law enforcement on high alert following threat...</td>\n",
       "      <td>1</td>\n",
       "    </tr>\n",
       "    <tr>\n",
       "      <th>1</th>\n",
       "      <td>unbelievable! obama’s attorney general says mo...</td>\n",
       "      <td>law enforcement on high alert following threat...</td>\n",
       "      <td>1</td>\n",
       "    </tr>\n",
       "    <tr>\n",
       "      <th>2</th>\n",
       "      <td>bobby jindal, raised hindu, uses story of chri...</td>\n",
       "      <td>law enforcement on high alert following threat...</td>\n",
       "      <td>0</td>\n",
       "    </tr>\n",
       "  </tbody>\n",
       "</table>\n",
       "</div>"
      ],
      "text/plain": [
       "                                               title  \\\n",
       "0  law enforcement on high alert following threat...   \n",
       "1  unbelievable! obama’s attorney general says mo...   \n",
       "2  bobby jindal, raised hindu, uses story of chri...   \n",
       "\n",
       "                                                text  label  \n",
       "0  law enforcement on high alert following threat...      1  \n",
       "1  law enforcement on high alert following threat...      1  \n",
       "2  law enforcement on high alert following threat...      0  "
      ]
     },
     "execution_count": 46,
     "metadata": {},
     "output_type": "execute_result"
    }
   ],
   "source": [
    "df.head(3)"
   ]
  },
  {
   "cell_type": "code",
   "execution_count": 47,
   "id": "4abb472f-3600-4243-b0bb-e43d44833be9",
   "metadata": {
    "collapsed": true,
    "jupyter": {
     "outputs_hidden": true
    }
   },
   "outputs": [
    {
     "name": "stdout",
     "output_type": "stream",
     "text": [
      "5\n",
      "Model: \"model_1\"\n",
      "__________________________________________________________________________________________________\n",
      " Layer (type)                Output Shape                 Param #   Connected to                  \n",
      "==================================================================================================\n",
      " text (InputLayer)           [(None,)]                    0         []                            \n",
      "                                                                                                  \n",
      " keras_layer_1 (KerasLayer)  {'input_mask': (None, 128)   0         ['text[0][0]']                \n",
      "                             , 'input_type_ids': (None,                                           \n",
      "                              128),                                                               \n",
      "                              'input_word_ids': (None,                                            \n",
      "                             128)}                                                                \n",
      "                                                                                                  \n",
      " BERT_encoder (KerasLayer)   {'default': (None, 128),     5179009   ['keras_layer_1[0][0]',       \n",
      "                              'encoder_outputs': [(None              'keras_layer_1[0][1]',       \n",
      "                             , 128, 128),                            'keras_layer_1[0][2]']       \n",
      "                              (None, 128, 128),                                                   \n",
      "                              (None, 128, 128),                                                   \n",
      "                              (None, 128, 128),                                                   \n",
      "                              (None, 128, 128),                                                   \n",
      "                              (None, 128, 128)],                                                  \n",
      "                              'pooled_output': (None, 1                                           \n",
      "                             28),                                                                 \n",
      "                              'sequence_output': (None,                                           \n",
      "                              128, 128)}                                                          \n",
      "                                                                                                  \n",
      " Dropout (Dropout)           (None, 128)                  0         ['BERT_encoder[0][7]']        \n",
      "                                                                                                  \n",
      " output (Dense)              (None, 1)                    129       ['Dropout[0][0]']             \n",
      "                                                                                                  \n",
      "==================================================================================================\n",
      "Total params: 5179138 (19.76 MB)\n",
      "Trainable params: 5179137 (19.76 MB)\n",
      "Non-trainable params: 1 (1.00 Byte)\n",
      "__________________________________________________________________________________________________\n",
      "None\n",
      "5\n",
      "Epoch 1/5\n",
      "1565/1565 [==============================] - 389s 243ms/step - loss: 0.7452 - binary_accuracy: 0.4937\n",
      "Epoch 2/5\n",
      "1565/1565 [==============================] - 381s 244ms/step - loss: 0.7076 - binary_accuracy: 0.4904\n",
      "Epoch 3/5\n",
      "1565/1565 [==============================] - 375s 239ms/step - loss: 0.7047 - binary_accuracy: 0.4921\n",
      "Epoch 4/5\n",
      "1565/1565 [==============================] - 378s 242ms/step - loss: 0.7025 - binary_accuracy: 0.4913\n",
      "Epoch 5/5\n",
      "1565/1565 [==============================] - 382s 244ms/step - loss: 0.7021 - binary_accuracy: 0.4899\n",
      "INFO:tensorflow:Assets written to: models/doscolumnas_nolimpio_smallbert_en_uncased_L-6_H-128_A-2/assets\n"
     ]
    },
    {
     "name": "stderr",
     "output_type": "stream",
     "text": [
      "INFO:tensorflow:Assets written to: models/doscolumnas_nolimpio_smallbert_en_uncased_L-6_H-128_A-2/assets\n"
     ]
    },
    {
     "name": "stdout",
     "output_type": "stream",
     "text": [
      "671/671 [==============================] - 145s 216ms/step\n",
      "Jaccard Index: 0.2448280682135868\n",
      "Accuracy: 0.4896561364271736\n",
      "Precisión: 0.2448280682135868\n",
      "Recall: 0.5\n",
      "F1-score: 0.3287041381251759\n"
     ]
    },
    {
     "name": "stderr",
     "output_type": "stream",
     "text": [
      "/home/alejandro/anaconda3/envs/proyecto2/lib/python3.11/site-packages/sklearn/metrics/_classification.py:1471: UndefinedMetricWarning: Precision is ill-defined and being set to 0.0 in labels with no predicted samples. Use `zero_division` parameter to control this behavior.\n",
      "  _warn_prf(average, modifier, msg_start, len(result))\n"
     ]
    },
    {
     "data": {
      "image/png": "[encoded data removed]",
      "text/plain": [
       "<Figure size 640x480 with 2 Axes>"
      ]
     },
     "metadata": {},
     "output_type": "display_data"
    }
   ],
   "source": [
    "X_train, X_test, y_train, y_test = train_test_split(df.loc[:, 'text'], df['label'].to_numpy(), test_size = 0.3, stratify = df['label'].to_numpy(), random_state = 42)\n",
    "yhat = train_fit_predict_bert('small_bert/bert_en_uncased_L-6_H-128_A-2', X_train, y_train, X_test, y_test, epochs = 5, extra_name = 'doscolumnas_nolimpio')\n",
    "print_metrics(np.where(yhat > 0.5, 1, 0), y_test)"
   ]
  },
  {
   "cell_type": "raw",
   "id": "bda8c7dd-b788-4cb4-a5c4-58d95192ba44",
   "metadata": {},
   "source": [
    "Model: \"model_1\"\n",
    "__________________________________________________________________________________________________\n",
    " Layer (type)                Output Shape                 Param #   Connected to                  \n",
    "==================================================================================================\n",
    " text (InputLayer)           [(None,)]                    0         []                            \n",
    "                                                                                                  \n",
    " keras_layer_1 (KerasLayer)  {'input_mask': (None, 128)   0         ['text[0][0]']                \n",
    "                             , 'input_type_ids': (None,                                           \n",
    "                              128),                                                               \n",
    "                              'input_word_ids': (None,                                            \n",
    "                             128)}                                                                \n",
    "                                                                                                  \n",
    " BERT_encoder (KerasLayer)   {'default': (None, 128),     5179009   ['keras_layer_1[0][0]',       \n",
    "                              'encoder_outputs': [(None              'keras_layer_1[0][1]',       \n",
    "                             , 128, 128),                            'keras_layer_1[0][2]']       \n",
    "                              (None, 128, 128),                                                   \n",
    "                              (None, 128, 128),                                                   \n",
    "                              (None, 128, 128),                                                   \n",
    "                              (None, 128, 128),                                                   \n",
    "                              (None, 128, 128)],                                                  \n",
    "                              'pooled_output': (None, 1                                           \n",
    "                             28),                                                                 \n",
    "                              'sequence_output': (None,                                           \n",
    "                              128, 128)}                                                          \n",
    "                                                                                                  \n",
    " Dropout (Dropout)           (None, 128)                  0         ['BERT_encoder[0][7]']        \n",
    "                                                                                                  \n",
    " output (Dense)              (None, 1)                    129       ['Dropout[0][0]']             \n",
    "                                                                                                  \n",
    "==================================================================================================\n",
    "Total params: 5179138 (19.76 MB)\n",
    "Trainable params: 5179137 (19.76 MB)\n",
    "Non-trainable params: 1 (1.00 Byte)\n",
    "__________________________________________________________________________________________________\n",
    "None\n",
    "Epoch 1/5\n",
    "1565/1565 [==============================] - 389s 243ms/step - loss: 0.7452 - binary_accuracy: 0.4937\n",
    "Epoch 2/5\n",
    "1565/1565 [==============================] - 381s 244ms/step - loss: 0.7076 - binary_accuracy: 0.4904\n",
    "Epoch 3/5\n",
    "1565/1565 [==============================] - 375s 239ms/step - loss: 0.7047 - binary_accuracy: 0.4921\n",
    "Epoch 4/5\n",
    "1565/1565 [==============================] - 378s 242ms/step - loss: 0.7025 - binary_accuracy: 0.4913\n",
    "Epoch 5/5\n",
    "1565/1565 [==============================] - 382s 244ms/step - loss: 0.7021 - binary_accuracy: 0.4899"
   ]
  },
  {
   "cell_type": "code",
   "execution_count": 15,
   "id": "19428a6e-f614-49a8-b84c-368be5ef5aa6",
   "metadata": {},
   "outputs": [],
   "source": [
    "# lo cargamos para no tener que entrenarlo de nuevo\n",
    "extra_name = 'doscolumnas_nolimpio'\n",
    "bert_model_name = 'small_bert/bert_en_uncased_L-6_H-128_A-2'\n",
    "path = f'models/{extra_name}_small{bert_model_name.split(\"/\")[1]}'\n",
    "model = tf.keras.models.load_model(path, compile=False)\n",
    "\n",
    "# predecimos sobre X_test\n",
    "yhat = model.predict(X_test).flatten()\n",
    "print_metrics(np.where(yhat > 0.5, 1, 0), y_test)"
   ]
  },
  {
   "cell_type": "markdown",
   "id": "eb4db05f-7488-48ab-8698-cf55e4fb7626",
   "metadata": {},
   "source": [
    "En realidad, usar la columna `title` concatenándola al resto del texto no es la forma correcta de concatenar dos frases para pasarlas a BERT, sino que lo ideal es usar tokens especiales de separación para distinguir entre ellas. Además, al tener este BERT una limitación de 128 palabras, algunas noticias no van a caber al completo en los vectores, y menos al añadir el título, así que la precisión va a ser peor."
   ]
  },
  {
   "cell_type": "markdown",
   "id": "5cd9b8f9-99ff-49f3-abb0-a57dbeb42d96",
   "metadata": {},
   "source": [
    "## Prueba usando solo la columna title."
   ]
  },
  {
   "cell_type": "code",
   "execution_count": 7,
   "id": "b01f6018-8c74-4284-a63e-e1c6bd08b8f2",
   "metadata": {},
   "outputs": [],
   "source": [
    "df = pd.read_csv('Data/df_limpio.csv')"
   ]
  },
  {
   "cell_type": "code",
   "execution_count": 8,
   "id": "0a1d7311-2f45-4035-8c05-2a8a40cf7322",
   "metadata": {},
   "outputs": [
    {
     "data": {
      "text/html": [
       "<div>\n",
       "<style scoped>\n",
       "    .dataframe tbody tr th:only-of-type {\n",
       "        vertical-align: middle;\n",
       "    }\n",
       "\n",
       "    .dataframe tbody tr th {\n",
       "        vertical-align: top;\n",
       "    }\n",
       "\n",
       "    .dataframe thead th {\n",
       "        text-align: right;\n",
       "    }\n",
       "</style>\n",
       "<table border=\"1\" class=\"dataframe\">\n",
       "  <thead>\n",
       "    <tr style=\"text-align: right;\">\n",
       "      <th></th>\n",
       "      <th>title</th>\n",
       "      <th>text</th>\n",
       "      <th>label</th>\n",
       "    </tr>\n",
       "  </thead>\n",
       "  <tbody>\n",
       "    <tr>\n",
       "      <th>0</th>\n",
       "      <td>law enforcement on high alert following threat...</td>\n",
       "      <td>no comment is expected from barack obama membe...</td>\n",
       "      <td>1</td>\n",
       "    </tr>\n",
       "    <tr>\n",
       "      <th>1</th>\n",
       "      <td>unbelievable! obama’s attorney general says mo...</td>\n",
       "      <td>now, most of the demonstrators gathered last ...</td>\n",
       "      <td>1</td>\n",
       "    </tr>\n",
       "    <tr>\n",
       "      <th>2</th>\n",
       "      <td>bobby jindal, raised hindu, uses story of chri...</td>\n",
       "      <td>a dozen politically active pastors came here f...</td>\n",
       "      <td>0</td>\n",
       "    </tr>\n",
       "  </tbody>\n",
       "</table>\n",
       "</div>"
      ],
      "text/plain": [
       "                                               title  \\\n",
       "0  law enforcement on high alert following threat...   \n",
       "1  unbelievable! obama’s attorney general says mo...   \n",
       "2  bobby jindal, raised hindu, uses story of chri...   \n",
       "\n",
       "                                                text  label  \n",
       "0  no comment is expected from barack obama membe...      1  \n",
       "1   now, most of the demonstrators gathered last ...      1  \n",
       "2  a dozen politically active pastors came here f...      0  "
      ]
     },
     "execution_count": 8,
     "metadata": {},
     "output_type": "execute_result"
    }
   ],
   "source": [
    "df.head(3)"
   ]
  },
  {
   "cell_type": "code",
   "execution_count": null,
   "id": "96300ee0-72be-43f7-8037-c7aa10c4791f",
   "metadata": {
    "scrolled": true
   },
   "outputs": [],
   "source": [
    "X_train, X_test, y_train, y_test = train_test_split(df.loc[:, 'title'], df['label'].to_numpy(), test_size = 0.3, stratify = df['label'].to_numpy(), random_state = 42)\n",
    "yhat = train_fit_predict_bert('small_bert/bert_en_uncased_L-6_H-128_A-2', X_train, y_train, X_test, y_test, epochs = 5, extra_name = 'title_nolimpio')\n",
    "print_metrics(np.where(yhat > 0.5, 1, 0), y_test)"
   ]
  },
  {
   "cell_type": "raw",
   "id": "cce6cc92-340d-421c-bdfd-cbf97e6177be",
   "metadata": {},
   "source": [
    "Model: \"model\"\n",
    "__________________________________________________________________________________________________\n",
    " Layer (type)                Output Shape                 Param #   Connected to                  \n",
    "==================================================================================================\n",
    " text (InputLayer)           [(None,)]                    0         []                            \n",
    "                                                                                                  \n",
    " keras_layer (KerasLayer)    {'input_mask': (None, 128)   0         ['text[0][0]']                \n",
    "                             , 'input_type_ids': (None,                                           \n",
    "                              128),                                                               \n",
    "                              'input_word_ids': (None,                                            \n",
    "                             128)}                                                                \n",
    "                                                                                                  \n",
    " BERT_encoder (KerasLayer)   {'default': (None, 128),     5179009   ['keras_layer[0][0]',         \n",
    "                              'encoder_outputs': [(None              'keras_layer[0][1]',         \n",
    "                             , 128, 128),                            'keras_layer[0][2]']         \n",
    "                              (None, 128, 128),                                                   \n",
    "                              (None, 128, 128),                                                   \n",
    "                              (None, 128, 128),                                                   \n",
    "                              (None, 128, 128),                                                   \n",
    "                              (None, 128, 128)],                                                  \n",
    "                              'pooled_output': (None, 1                                           \n",
    "                             28),                                                                 \n",
    "                              'sequence_output': (None,                                           \n",
    "                              128, 128)}                                                          \n",
    "                                                                                                  \n",
    " Dropout (Dropout)           (None, 128)                  0         ['BERT_encoder[0][7]']        \n",
    "                                                                                                  \n",
    " output (Dense)              (None, 1)                    129       ['Dropout[0][0]']             \n",
    "                                                                                                  \n",
    "==================================================================================================\n",
    "Total params: 5179138 (19.76 MB)\n",
    "Trainable params: 5179137 (19.76 MB)\n",
    "Non-trainable params: 1 (1.00 Byte)\n",
    "__________________________________________________________________________________________________\n",
    "None\n",
    "Epoch 1/5\n",
    "2024-01-11 08:50:47.445657: I external/local_tsl/tsl/platform/default/subprocess.cc:304] Start cannot spawn child process: No such file or directory\n",
    "1565/1565 [==============================] - 306s 189ms/step - loss: 0.6685 - binary_accuracy: 0.5817\n",
    "Epoch 2/5\n",
    "1565/1565 [==============================] - 294s 188ms/step - loss: 0.3852 - binary_accuracy: 0.8201\n",
    "Epoch 3/5\n",
    "1565/1565 [==============================] - 294s 188ms/step - loss: 0.2863 - binary_accuracy: 0.8767\n",
    "Epoch 4/5\n",
    "1565/1565 [==============================] - 293s 187ms/step - loss: 0.2479 - binary_accuracy: 0.8977\n",
    "Epoch 5/5\n",
    "1565/1565 [==============================] - 293s 187ms/step - loss: 0.2206 - binary_accuracy: 0.9107"
   ]
  },
  {
   "cell_type": "code",
   "execution_count": 10,
   "id": "8e92f5b9-04ce-467a-a62d-c837706092ff",
   "metadata": {},
   "outputs": [
    {
     "name": "stdout",
     "output_type": "stream",
     "text": [
      "Jaccard Index: 0.8270097218697992\n",
      "Accuracy: 0.9053676265026559\n",
      "Precisión: 0.9080902704206533\n",
      "Recall: 0.9062654073894586\n",
      "F1-score: 0.9053100991187114\n"
     ]
    },
    {
     "data": {
      "image/png": "[encoded data removed]",
      "text/plain": [
       "<Figure size 640x480 with 2 Axes>"
      ]
     },
     "metadata": {},
     "output_type": "display_data"
    }
   ],
   "source": [
    "# lo cargamos para no tener que entrenarlo de nuevo\n",
    "extra_name = 'title_nolimpio'\n",
    "bert_model_name = 'small_bert/bert_en_uncased_L-6_H-128_A-2'\n",
    "path = f'models/{extra_name}_small{bert_model_name.split(\"/\")[1]}'\n",
    "model = tf.keras.models.load_model(path, compile=False)\n",
    "\n",
    "# predecimos sobre X_test\n",
    "yhat = model.predict(X_test).flatten()\n",
    "print_metrics(np.where(yhat > 0.5, 1, 0), y_test)"
   ]
  },
  {
   "cell_type": "markdown",
   "id": "f3486a81-f423-48fc-a781-11f2159a2d53",
   "metadata": {},
   "source": [
    "## Prueba sin usar el parámetro `trainable=True`. \n",
    "Esto hace que los únicos pesos a ajustar sean los pesos de la capa densa que hemos añadido, pero no se ajustan los de BERT a nuestro problema particular. En este sentido, solo nos estamos sirviendo de BERT para pasar de palabras a vectores contextualizados."
   ]
  },
  {
   "cell_type": "code",
   "execution_count": 11,
   "id": "fe55674e-a9ce-4bff-aa24-6bbd7ec9aeea",
   "metadata": {},
   "outputs": [],
   "source": [
    "df = pd.read_csv('Data/df_limpio.csv')\n",
    "df = df.drop('title', axis = 1)"
   ]
  },
  {
   "cell_type": "code",
   "execution_count": null,
   "id": "8cf7587b-264d-4925-b771-03a74272ce3c",
   "metadata": {},
   "outputs": [],
   "source": [
    "X_train, X_test, y_train, y_test = train_test_split(df.loc[:, 'text'], df['label'].to_numpy(), test_size = 0.3, stratify = df['label'].to_numpy(), random_state = 42)\n",
    "yhat = train_fit_predict_bert('small_bert/bert_en_uncased_L-6_H-128_A-2', X_train, y_train, X_test, y_test, epochs = 5, extra_name = 'not_trainable_nolimpio', trainable = False)\n",
    "print_metrics(np.where(yhat > 0.5, 1, 0), y_test)"
   ]
  },
  {
   "cell_type": "raw",
   "id": "3d10fe85-91ad-4fa8-8f3e-949c314fea98",
   "metadata": {},
   "source": [
    "Model: \"model_1\"\n",
    "__________________________________________________________________________________________________\n",
    " Layer (type)                Output Shape                 Param #   Connected to                  \n",
    "==================================================================================================\n",
    " text (InputLayer)           [(None,)]                    0         []                            \n",
    "                                                                                                  \n",
    " keras_layer_1 (KerasLayer)  {'input_mask': (None, 128)   0         ['text[0][0]']                \n",
    "                             , 'input_type_ids': (None,                                           \n",
    "                              128),                                                               \n",
    "                              'input_word_ids': (None,                                            \n",
    "                             128)}                                                                \n",
    "                                                                                                  \n",
    " BERT_encoder (KerasLayer)   {'default': (None, 128),     5179009   ['keras_layer_1[0][0]',       \n",
    "                              'encoder_outputs': [(None              'keras_layer_1[0][1]',       \n",
    "                             , 128, 128),                            'keras_layer_1[0][2]']       \n",
    "                              (None, 128, 128),                                                   \n",
    "                              (None, 128, 128),                                                   \n",
    "                              (None, 128, 128),                                                   \n",
    "                              (None, 128, 128),                                                   \n",
    "                              (None, 128, 128)],                                                  \n",
    "                              'pooled_output': (None, 1                                           \n",
    "                             28),                                                                 \n",
    "                              'sequence_output': (None,                                           \n",
    "                              128, 128)}                                                          \n",
    "                                                                                                  \n",
    " Dropout (Dropout)           (None, 128)                  0         ['BERT_encoder[0][7]']        \n",
    "                                                                                                  \n",
    " output (Dense)              (None, 1)                    129       ['Dropout[0][0]']             \n",
    "                                                                                                  \n",
    "==================================================================================================\n",
    "Total params: 5179138 (19.76 MB)\n",
    "Trainable params: 129 (516.00 Byte)\n",
    "Non-trainable params: 5179009 (19.76 MB)\n",
    "__________________________________________________________________________________________________\n",
    "None\n",
    "Epoch 1/5\n",
    "1565/1565 [==============================] - 252s 158ms/step - loss: 0.9617 - binary_accuracy: 0.5132\n",
    "Epoch 2/5\n",
    "1565/1565 [==============================] - 246s 157ms/step - loss: 0.8866 - binary_accuracy: 0.5201\n",
    "Epoch 3/5\n",
    "1565/1565 [==============================] - 246s 157ms/step - loss: 0.7640 - binary_accuracy: 0.5674\n",
    "Epoch 4/5\n",
    "1565/1565 [==============================] - 246s 157ms/step - loss: 0.6619 - binary_accuracy: 0.6443\n",
    "Epoch 5/5\n",
    "1565/1565 [==============================] - 244s 156ms/step - loss: 0.6308 - binary_accuracy: 0.6210"
   ]
  },
  {
   "cell_type": "code",
   "execution_count": 14,
   "id": "4318dc15-cdb6-4ca9-af6a-029a873aec0c",
   "metadata": {},
   "outputs": [
    {
     "name": "stdout",
     "output_type": "stream",
     "text": [
      "Jaccard Index: 0.40277530051122507\n",
      "Accuracy: 0.607585499953406\n",
      "Precisión: 0.7137759122446696\n",
      "Recall: 0.6146789337537214\n",
      "F1-score: 0.559575291638977\n"
     ]
    },
    {
     "data": {
      "image/png": "[encoded data removed]",
      "text/plain": [
       "<Figure size 640x480 with 2 Axes>"
      ]
     },
     "metadata": {},
     "output_type": "display_data"
    }
   ],
   "source": [
    "# lo cargamos para no tener que entrenarlo de nuevo\n",
    "extra_name = 'title_nolimpio'\n",
    "bert_model_name = 'small_bert/bert_en_uncased_L-6_H-128_A-2'\n",
    "path = f'models/{extra_name}_small{bert_model_name.split(\"/\")[1]}'\n",
    "model = tf.keras.models.load_model(path, compile=False)\n",
    "\n",
    "# predecimos sobre X_test\n",
    "yhat = model.predict(X_test).flatten()\n",
    "print_metrics(np.where(yhat > 0.5, 1, 0), y_test)"
   ]
  },
  {
   "cell_type": "markdown",
   "id": "05108a64-f7a7-4cdd-8b57-504d01f70df2",
   "metadata": {},
   "source": [
    "Como era de esperar, el resultado es mucho peor."
   ]
  },
  {
   "cell_type": "markdown",
   "id": "c2fcf582-b87c-4862-966f-ab9f6fe418e9",
   "metadata": {},
   "source": [
    "## Pruebas con diferentes modelos BERT\n",
    "Entrenamos distintos modelos BERT y los guardamos para luego hacer una comparación."
   ]
  },
  {
   "cell_type": "code",
   "execution_count": 15,
   "id": "9ae70269-190f-40a2-bce6-5363cab76ac6",
   "metadata": {},
   "outputs": [],
   "source": [
    "df = pd.read_csv('Data/df_limpio.csv')\n",
    "X_train, X_test, y_train, y_test = train_test_split(df.loc[:, 'text'], df['label'].to_numpy(), test_size = 0.3, stratify = df['label'].to_numpy(), random_state = 42)"
   ]
  },
  {
   "cell_type": "code",
   "execution_count": null,
   "id": "186d3543-5a0e-410b-852b-4f94e79aeaeb",
   "metadata": {},
   "outputs": [],
   "source": [
    "model_names = ['small_bert/bert_en_uncased_L-4_H-768_A-12', 'small_bert/bert_en_uncased_L-8_H-128_A-2', 'small_bert/bert_en_uncased_L-8_H-512_A-8']\n",
    "extra_name = 'nolimpio'\n",
    "\n",
    "for model_name in model_names:\n",
    "    model = define_bert(model_name)\n",
    "    train_bert(model, X_train, y_train, epochs=5)\n",
    "    model.save(f'models/{extra_name}_small{model_name.split(\"/\")[1]}')"
   ]
  },
  {
   "cell_type": "markdown",
   "id": "fbc49e7f-2b77-456c-81f5-b9724c58d4ee",
   "metadata": {},
   "source": [
    "Ponemos aquí un ejemplo del _output_ al entrenar un modelo de los anteriores. El total de tiempo de entrenamiento es 1h 33min."
   ]
  },
  {
   "cell_type": "raw",
   "id": "d82a4bff-599c-456a-ba7c-58bd0810da49",
   "metadata": {},
   "source": [
    "Entrenamiento del modelo 'small_bert/bert_en_uncased_L-6_H-768_A-12'\n",
    "Model: \"model_2\"\n",
    "__________________________________________________________________________________________________\n",
    " Layer (type)                Output Shape                 Param #   Connected to                  \n",
    "==================================================================================================\n",
    " text (InputLayer)           [(None,)]                    0         []                            \n",
    "                                                                                                  \n",
    " keras_layer_2 (KerasLayer)  {'input_mask': (None, 128)   0         ['text[0][0]']                \n",
    "                             , 'input_type_ids': (None,                                           \n",
    "                              128),                                                               \n",
    "                              'input_word_ids': (None,                                            \n",
    "                             128)}                                                                \n",
    "                                                                                                  \n",
    " BERT_encoder (KerasLayer)   {'default': (None, 768),     6695500   ['keras_layer_2[0][0]',       \n",
    "                              'encoder_outputs': [(None   9          'keras_layer_2[0][1]',       \n",
    "                             , 128, 768),                            'keras_layer_2[0][2]']       \n",
    "                              (None, 128, 768),                                                   \n",
    "                              (None, 128, 768),                                                   \n",
    "                              (None, 128, 768),                                                   \n",
    "                              (None, 128, 768),                                                   \n",
    "                              (None, 128, 768)],                                                  \n",
    "                              'pooled_output': (None, 7                                           \n",
    "                             68),                                                                 \n",
    "                              'sequence_output': (None,                                           \n",
    "                              128, 768)}                                                          \n",
    "                                                                                                  \n",
    " Dropout (Dropout)           (None, 768)                  0         ['BERT_encoder[0][7]']        \n",
    "                                                                                                  \n",
    " output (Dense)              (None, 1)                    769       ['Dropout[0][0]']             \n",
    "                                                                                                  \n",
    "==================================================================================================\n",
    "Total params: 66955778 (255.42 MB)\n",
    "Trainable params: 66955777 (255.42 MB)\n",
    "Non-trainable params: 1 (1.00 Byte)\n",
    "__________________________________________________________________________________________________\n",
    "None\n",
    "Epoch 1/5\n",
    "1565/1565 [==============================] - 1131s 717ms/step - loss: 0.3671 - binary_accuracy: 0.7977\n",
    "Epoch 2/5\n",
    "1565/1565 [==============================] - 1122s 717ms/step - loss: 0.0771 - binary_accuracy: 0.9714\n",
    "Epoch 3/5\n",
    "1565/1565 [==============================] - 1130s 722ms/step - loss: 0.0466 - binary_accuracy: 0.9850\n",
    "Epoch 4/5\n",
    "1565/1565 [==============================] - 1124s 718ms/step - loss: 0.0333 - binary_accuracy: 0.9897\n",
    "Epoch 5/5\n",
    "1565/1565 [==============================] - 1123s 718ms/step - loss: 0.0210 - binary_accuracy: 0.9937"
   ]
  }
 ],
 "metadata": {
  "kernelspec": {
   "display_name": "Python 3 (ipykernel)",
   "language": "python",
   "name": "python3"
  },
  "language_info": {
   "codemirror_mode": {
    "name": "ipython",
    "version": 3
   },
   "file_extension": ".py",
   "mimetype": "text/x-python",
   "name": "python",
   "nbconvert_exporter": "python",
   "pygments_lexer": "ipython3",
   "version": "3.11.8"
  }
 },
 "nbformat": 4,
 "nbformat_minor": 5
}
