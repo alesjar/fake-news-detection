{
 "cells": [
  {
   "cell_type": "markdown",
   "id": "17e4db67-ef9f-4e91-b788-03d4208a6f97",
   "metadata": {},
   "source": [
    "# Exploratory Data Analysis\n",
    "En este notebook exploramos los datos sobre noticias falsas que hemos descargado de Kaggle. Para ello, hacemos un estudio sobre la longitud de las noticias y sobre su sentimentalismo, asociando una etiqueta a cada noticia según contenga o no ciertas emociones. Las noticias se clasifican según sean falsas (```label = 1```) o verdaderas (```label = 0```)."
   ]
  },
  {
   "cell_type": "code",
   "execution_count": 85,
   "id": "95d8fab0-7984-4775-b20b-84b2f7bc7d77",
   "metadata": {
    "tags": []
   },
   "outputs": [],
   "source": [
    "import numpy as np\n",
    "import pandas as pd\n",
    "import matplotlib.pyplot as plt\n",
    "import seaborn as sns\n",
    "from textblob import TextBlob"
   ]
  },
  {
   "cell_type": "code",
   "execution_count": 86,
   "id": "bd284da0-4994-42c0-9f9d-894dde221643",
   "metadata": {
    "tags": []
   },
   "outputs": [],
   "source": [
    "df = pd.read_csv(\"Data/WELFake_Dataset.csv\")"
   ]
  },
  {
   "cell_type": "code",
   "execution_count": 87,
   "id": "9ca8d11d-b63d-49d4-82f4-a4e835ef5e40",
   "metadata": {
    "tags": []
   },
   "outputs": [
    {
     "data": {
      "text/html": [
       "<div>\n",
       "<style scoped>\n",
       "    .dataframe tbody tr th:only-of-type {\n",
       "        vertical-align: middle;\n",
       "    }\n",
       "\n",
       "    .dataframe tbody tr th {\n",
       "        vertical-align: top;\n",
       "    }\n",
       "\n",
       "    .dataframe thead th {\n",
       "        text-align: right;\n",
       "    }\n",
       "</style>\n",
       "<table border=\"1\" class=\"dataframe\">\n",
       "  <thead>\n",
       "    <tr style=\"text-align: right;\">\n",
       "      <th></th>\n",
       "      <th>Unnamed: 0</th>\n",
       "      <th>title</th>\n",
       "      <th>text</th>\n",
       "      <th>label</th>\n",
       "    </tr>\n",
       "  </thead>\n",
       "  <tbody>\n",
       "    <tr>\n",
       "      <th>0</th>\n",
       "      <td>0</td>\n",
       "      <td>LAW ENFORCEMENT ON HIGH ALERT Following Threat...</td>\n",
       "      <td>No comment is expected from Barack Obama Membe...</td>\n",
       "      <td>1</td>\n",
       "    </tr>\n",
       "    <tr>\n",
       "      <th>1</th>\n",
       "      <td>1</td>\n",
       "      <td>NaN</td>\n",
       "      <td>Did they post their votes for Hillary already?</td>\n",
       "      <td>1</td>\n",
       "    </tr>\n",
       "    <tr>\n",
       "      <th>2</th>\n",
       "      <td>2</td>\n",
       "      <td>UNBELIEVABLE! OBAMA’S ATTORNEY GENERAL SAYS MO...</td>\n",
       "      <td>Now, most of the demonstrators gathered last ...</td>\n",
       "      <td>1</td>\n",
       "    </tr>\n",
       "    <tr>\n",
       "      <th>3</th>\n",
       "      <td>3</td>\n",
       "      <td>Bobby Jindal, raised Hindu, uses story of Chri...</td>\n",
       "      <td>A dozen politically active pastors came here f...</td>\n",
       "      <td>0</td>\n",
       "    </tr>\n",
       "    <tr>\n",
       "      <th>4</th>\n",
       "      <td>4</td>\n",
       "      <td>SATAN 2: Russia unvelis an image of its terrif...</td>\n",
       "      <td>The RS-28 Sarmat missile, dubbed Satan 2, will...</td>\n",
       "      <td>1</td>\n",
       "    </tr>\n",
       "    <tr>\n",
       "      <th>...</th>\n",
       "      <td>...</td>\n",
       "      <td>...</td>\n",
       "      <td>...</td>\n",
       "      <td>...</td>\n",
       "    </tr>\n",
       "    <tr>\n",
       "      <th>72129</th>\n",
       "      <td>72129</td>\n",
       "      <td>Russians steal research on Trump in hack of U....</td>\n",
       "      <td>WASHINGTON (Reuters) - Hackers believed to be ...</td>\n",
       "      <td>0</td>\n",
       "    </tr>\n",
       "    <tr>\n",
       "      <th>72130</th>\n",
       "      <td>72130</td>\n",
       "      <td>WATCH: Giuliani Demands That Democrats Apolog...</td>\n",
       "      <td>You know, because in fantasyland Republicans n...</td>\n",
       "      <td>1</td>\n",
       "    </tr>\n",
       "    <tr>\n",
       "      <th>72131</th>\n",
       "      <td>72131</td>\n",
       "      <td>Migrants Refuse To Leave Train At Refugee Camp...</td>\n",
       "      <td>Migrants Refuse To Leave Train At Refugee Camp...</td>\n",
       "      <td>0</td>\n",
       "    </tr>\n",
       "    <tr>\n",
       "      <th>72132</th>\n",
       "      <td>72132</td>\n",
       "      <td>Trump tussle gives unpopular Mexican leader mu...</td>\n",
       "      <td>MEXICO CITY (Reuters) - Donald Trump’s combati...</td>\n",
       "      <td>0</td>\n",
       "    </tr>\n",
       "    <tr>\n",
       "      <th>72133</th>\n",
       "      <td>72133</td>\n",
       "      <td>Goldman Sachs Endorses Hillary Clinton For Pre...</td>\n",
       "      <td>Goldman Sachs Endorses Hillary Clinton For Pre...</td>\n",
       "      <td>1</td>\n",
       "    </tr>\n",
       "  </tbody>\n",
       "</table>\n",
       "<p>72134 rows × 4 columns</p>\n",
       "</div>"
      ],
      "text/plain": [
       "       Unnamed: 0                                              title  \\\n",
       "0               0  LAW ENFORCEMENT ON HIGH ALERT Following Threat...   \n",
       "1               1                                                NaN   \n",
       "2               2  UNBELIEVABLE! OBAMA’S ATTORNEY GENERAL SAYS MO...   \n",
       "3               3  Bobby Jindal, raised Hindu, uses story of Chri...   \n",
       "4               4  SATAN 2: Russia unvelis an image of its terrif...   \n",
       "...           ...                                                ...   \n",
       "72129       72129  Russians steal research on Trump in hack of U....   \n",
       "72130       72130   WATCH: Giuliani Demands That Democrats Apolog...   \n",
       "72131       72131  Migrants Refuse To Leave Train At Refugee Camp...   \n",
       "72132       72132  Trump tussle gives unpopular Mexican leader mu...   \n",
       "72133       72133  Goldman Sachs Endorses Hillary Clinton For Pre...   \n",
       "\n",
       "                                                    text  label  \n",
       "0      No comment is expected from Barack Obama Membe...      1  \n",
       "1         Did they post their votes for Hillary already?      1  \n",
       "2       Now, most of the demonstrators gathered last ...      1  \n",
       "3      A dozen politically active pastors came here f...      0  \n",
       "4      The RS-28 Sarmat missile, dubbed Satan 2, will...      1  \n",
       "...                                                  ...    ...  \n",
       "72129  WASHINGTON (Reuters) - Hackers believed to be ...      0  \n",
       "72130  You know, because in fantasyland Republicans n...      1  \n",
       "72131  Migrants Refuse To Leave Train At Refugee Camp...      0  \n",
       "72132  MEXICO CITY (Reuters) - Donald Trump’s combati...      0  \n",
       "72133  Goldman Sachs Endorses Hillary Clinton For Pre...      1  \n",
       "\n",
       "[72134 rows x 4 columns]"
      ]
     },
     "execution_count": 87,
     "metadata": {},
     "output_type": "execute_result"
    }
   ],
   "source": [
    "df"
   ]
  },
  {
   "cell_type": "code",
   "execution_count": 88,
   "id": "4d1bc9f2-1bb5-4bb0-b143-5ae76a8e4cbd",
   "metadata": {
    "tags": []
   },
   "outputs": [
    {
     "name": "stdout",
     "output_type": "stream",
     "text": [
      "<class 'pandas.core.frame.DataFrame'>\n",
      "RangeIndex: 72134 entries, 0 to 72133\n",
      "Data columns (total 4 columns):\n",
      " #   Column      Non-Null Count  Dtype \n",
      "---  ------      --------------  ----- \n",
      " 0   Unnamed: 0  72134 non-null  int64 \n",
      " 1   title       71576 non-null  object\n",
      " 2   text        72095 non-null  object\n",
      " 3   label       72134 non-null  int64 \n",
      "dtypes: int64(2), object(2)\n",
      "memory usage: 2.2+ MB\n"
     ]
    }
   ],
   "source": [
    "#Info de las columnas del dataFrame\n",
    "df.info()"
   ]
  },
  {
   "cell_type": "markdown",
   "id": "e2d9a276-8cc3-4142-9352-6612263bd742",
   "metadata": {},
   "source": [
    "#### Valores nulos"
   ]
  },
  {
   "cell_type": "code",
   "execution_count": 89,
   "id": "53eba6ca-5135-4698-870d-425c0e3335f9",
   "metadata": {
    "tags": []
   },
   "outputs": [
    {
     "data": {
      "text/plain": [
       "Unnamed: 0      0\n",
       "title         558\n",
       "text           39\n",
       "label           0\n",
       "dtype: int64"
      ]
     },
     "execution_count": 89,
     "metadata": {},
     "output_type": "execute_result"
    }
   ],
   "source": [
    "# Visualización de valores nulos\n",
    "df.isna().sum()"
   ]
  },
  {
   "cell_type": "code",
   "execution_count": 90,
   "id": "e19cfeaf-bec0-4cf0-ac14-2953bdb0e652",
   "metadata": {
    "tags": []
   },
   "outputs": [
    {
     "data": {
      "text/plain": [
       "Unnamed: 0    0.000000\n",
       "title         0.007736\n",
       "text          0.000541\n",
       "label         0.000000\n",
       "dtype: float64"
      ]
     },
     "execution_count": 90,
     "metadata": {},
     "output_type": "execute_result"
    }
   ],
   "source": [
    "# porcentaje de valores nulos\n",
    "df.isna().sum()/len(df)"
   ]
  },
  {
   "cell_type": "code",
   "execution_count": 91,
   "id": "1ec75c34-23ae-44e1-a344-5594066923cb",
   "metadata": {
    "tags": []
   },
   "outputs": [],
   "source": [
    "# Tenemos un porcentaje muy pequeño de nulos, así que es recomendable eliminarlos\n",
    "df = df.dropna()"
   ]
  },
  {
   "cell_type": "code",
   "execution_count": 92,
   "id": "82cab4c0-c551-467a-925c-a0a4e6d4ca7f",
   "metadata": {
    "tags": []
   },
   "outputs": [],
   "source": [
    "#Eliminamos la columna de los ids del dataframe\n",
    "df = df.drop(\"Unnamed: 0\", axis=1)"
   ]
  },
  {
   "cell_type": "code",
   "execution_count": 93,
   "id": "62dddec0-fe40-449e-849d-f705f2c99ac7",
   "metadata": {
    "tags": []
   },
   "outputs": [
    {
     "data": {
      "text/plain": [
       "label\n",
       "1    0.510351\n",
       "0    0.489649\n",
       "Name: proportion, dtype: float64"
      ]
     },
     "execution_count": 93,
     "metadata": {},
     "output_type": "execute_result"
    }
   ],
   "source": [
    "# distribución de la columna 'label'\n",
    "df['label'].value_counts(normalize=True)"
   ]
  },
  {
   "cell_type": "markdown",
   "id": "e1e1b5c0-adc1-4664-a197-ac3bc8b39bf2",
   "metadata": {},
   "source": [
    "La columna ```label``` está balanceada, así que no vamos a necesitar emplear estrategias de under/oversampling."
   ]
  },
  {
   "cell_type": "markdown",
   "id": "8a10da36-7833-4b9e-b0d9-182b093835ed",
   "metadata": {},
   "source": [
    "## Creación de columnas para estudiar el sentimiento y la longitud de las noticias"
   ]
  },
  {
   "cell_type": "markdown",
   "id": "2c8ed557-2377-4bbf-ab05-3e2b0d0e0059",
   "metadata": {},
   "source": [
    "Hacemos una lista de sentimientos negativos que pueda haber en las noticias para crear una columna que califique sentimiento positivo o negativo. Si alguna de las palabras de la lista está en la noticia, calificaremos sentimiento negativo (0), si no, positivo (1)."
   ]
  },
  {
   "cell_type": "code",
   "execution_count": 94,
   "id": "725105c8-9e88-473b-88e6-ed9514208403",
   "metadata": {},
   "outputs": [],
   "source": [
    "SENTIMENT_LIST = ['murder', 'cheat', 'fraud', 'scam', 'loss', 'steal', 'racist', 'hatred', 'sad', 'demise', 'succumbed', \n",
    "                  'lost', 'poll', 'rape', 'molest', 'theft', 'robbery', 'steal', 'stole']"
   ]
  },
  {
   "cell_type": "code",
   "execution_count": 95,
   "id": "978e3b82-56f2-4dec-834f-7f8855ac4b4d",
   "metadata": {
    "tags": []
   },
   "outputs": [],
   "source": [
    "# Función para columna sentiment\n",
    "def sentiment(text):\n",
    "    words = text.split()\n",
    "    try:\n",
    "        return int(any(word in SENTIMENT_LIST for word in words))\n",
    "    except:\n",
    "        return 0"
   ]
  },
  {
   "cell_type": "code",
   "execution_count": 96,
   "id": "813dd94e-7e5b-468c-9179-0f64fb4b8bc0",
   "metadata": {
    "tags": []
   },
   "outputs": [],
   "source": [
    "df['length_text'] = df['text'].str.len()\n",
    "df['length_title'] = df['title'].str.len()"
   ]
  },
  {
   "cell_type": "code",
   "execution_count": 97,
   "id": "0cf217e4-30b8-46cd-bed8-118e03917747",
   "metadata": {
    "tags": []
   },
   "outputs": [],
   "source": [
    "# creamos una columna sentimiento\n",
    "df['sentiment'] = df['text'].apply(sentiment)"
   ]
  },
  {
   "cell_type": "code",
   "execution_count": 98,
   "id": "0ea5aea1-07b7-4439-a67f-23969b7f013c",
   "metadata": {
    "tags": []
   },
   "outputs": [
    {
     "data": {
      "text/html": [
       "<div>\n",
       "<style scoped>\n",
       "    .dataframe tbody tr th:only-of-type {\n",
       "        vertical-align: middle;\n",
       "    }\n",
       "\n",
       "    .dataframe tbody tr th {\n",
       "        vertical-align: top;\n",
       "    }\n",
       "\n",
       "    .dataframe thead th {\n",
       "        text-align: right;\n",
       "    }\n",
       "</style>\n",
       "<table border=\"1\" class=\"dataframe\">\n",
       "  <thead>\n",
       "    <tr style=\"text-align: right;\">\n",
       "      <th></th>\n",
       "      <th>title</th>\n",
       "      <th>text</th>\n",
       "      <th>label</th>\n",
       "      <th>length_text</th>\n",
       "      <th>length_title</th>\n",
       "      <th>sentiment</th>\n",
       "    </tr>\n",
       "  </thead>\n",
       "  <tbody>\n",
       "    <tr>\n",
       "      <th>0</th>\n",
       "      <td>LAW ENFORCEMENT ON HIGH ALERT Following Threat...</td>\n",
       "      <td>No comment is expected from Barack Obama Membe...</td>\n",
       "      <td>1</td>\n",
       "      <td>5049</td>\n",
       "      <td>130</td>\n",
       "      <td>1</td>\n",
       "    </tr>\n",
       "    <tr>\n",
       "      <th>2</th>\n",
       "      <td>UNBELIEVABLE! OBAMA’S ATTORNEY GENERAL SAYS MO...</td>\n",
       "      <td>Now, most of the demonstrators gathered last ...</td>\n",
       "      <td>1</td>\n",
       "      <td>216</td>\n",
       "      <td>137</td>\n",
       "      <td>0</td>\n",
       "    </tr>\n",
       "    <tr>\n",
       "      <th>3</th>\n",
       "      <td>Bobby Jindal, raised Hindu, uses story of Chri...</td>\n",
       "      <td>A dozen politically active pastors came here f...</td>\n",
       "      <td>0</td>\n",
       "      <td>8010</td>\n",
       "      <td>105</td>\n",
       "      <td>0</td>\n",
       "    </tr>\n",
       "    <tr>\n",
       "      <th>4</th>\n",
       "      <td>SATAN 2: Russia unvelis an image of its terrif...</td>\n",
       "      <td>The RS-28 Sarmat missile, dubbed Satan 2, will...</td>\n",
       "      <td>1</td>\n",
       "      <td>1916</td>\n",
       "      <td>95</td>\n",
       "      <td>0</td>\n",
       "    </tr>\n",
       "    <tr>\n",
       "      <th>5</th>\n",
       "      <td>About Time! Christian Group Sues Amazon and SP...</td>\n",
       "      <td>All we can say on this one is it s about time ...</td>\n",
       "      <td>1</td>\n",
       "      <td>1530</td>\n",
       "      <td>78</td>\n",
       "      <td>0</td>\n",
       "    </tr>\n",
       "  </tbody>\n",
       "</table>\n",
       "</div>"
      ],
      "text/plain": [
       "                                               title  \\\n",
       "0  LAW ENFORCEMENT ON HIGH ALERT Following Threat...   \n",
       "2  UNBELIEVABLE! OBAMA’S ATTORNEY GENERAL SAYS MO...   \n",
       "3  Bobby Jindal, raised Hindu, uses story of Chri...   \n",
       "4  SATAN 2: Russia unvelis an image of its terrif...   \n",
       "5  About Time! Christian Group Sues Amazon and SP...   \n",
       "\n",
       "                                                text  label  length_text  \\\n",
       "0  No comment is expected from Barack Obama Membe...      1         5049   \n",
       "2   Now, most of the demonstrators gathered last ...      1          216   \n",
       "3  A dozen politically active pastors came here f...      0         8010   \n",
       "4  The RS-28 Sarmat missile, dubbed Satan 2, will...      1         1916   \n",
       "5  All we can say on this one is it s about time ...      1         1530   \n",
       "\n",
       "   length_title  sentiment  \n",
       "0           130          1  \n",
       "2           137          0  \n",
       "3           105          0  \n",
       "4            95          0  \n",
       "5            78          0  "
      ]
     },
     "execution_count": 98,
     "metadata": {},
     "output_type": "execute_result"
    }
   ],
   "source": [
    "df.head()"
   ]
  },
  {
   "cell_type": "markdown",
   "id": "fbc59136-035b-4f6b-8829-6ea3b164e019",
   "metadata": {
    "tags": []
   },
   "source": [
    "Podemos ver que la columna 'Label' está muy balanceada"
   ]
  },
  {
   "cell_type": "markdown",
   "id": "53983e35-cb98-4d83-9ff2-37cf01b286d7",
   "metadata": {},
   "source": [
    "## Análisis de la longitud del texto, `length_text`."
   ]
  },
  {
   "cell_type": "code",
   "execution_count": 99,
   "id": "2ba08ed9-3124-4b2f-8a3d-805655438b42",
   "metadata": {
    "tags": []
   },
   "outputs": [
    {
     "data": {
      "text/plain": [
       "<Axes: xlabel='label', ylabel='length_text'>"
      ]
     },
     "execution_count": 99,
     "metadata": {},
     "output_type": "execute_result"
    },
    {
     "data": {
      "image/png": "[encoded data removed]",
      "text/plain": [
       "<Figure size 640x480 with 1 Axes>"
      ]
     },
     "metadata": {},
     "output_type": "display_data"
    }
   ],
   "source": [
    "# Diagrama de caja para visualizar la distribución de la longitud de las noticias\n",
    "sns.boxplot(df, x = 'label', y = 'length_text')"
   ]
  },
  {
   "cell_type": "markdown",
   "id": "91af5c1b-c905-43f0-925e-e4918a759795",
   "metadata": {},
   "source": [
    "Observamos que la mayoría de noticias tienen longitudes bastante pequeñas, habiendo algunas excepciones. También notamos que hay varias columnas con longitud muy pequeña y que las noticias falsas tienen más outliers que las verdaderas."
   ]
  },
  {
   "cell_type": "code",
   "execution_count": 100,
   "id": "2c2ba996-acc4-4f81-b358-3b39e8b7983e",
   "metadata": {},
   "outputs": [
    {
     "data": {
      "text/html": [
       "<div>\n",
       "<style scoped>\n",
       "    .dataframe tbody tr th:only-of-type {\n",
       "        vertical-align: middle;\n",
       "    }\n",
       "\n",
       "    .dataframe tbody tr th {\n",
       "        vertical-align: top;\n",
       "    }\n",
       "\n",
       "    .dataframe thead th {\n",
       "        text-align: right;\n",
       "    }\n",
       "</style>\n",
       "<table border=\"1\" class=\"dataframe\">\n",
       "  <thead>\n",
       "    <tr style=\"text-align: right;\">\n",
       "      <th></th>\n",
       "      <th>title</th>\n",
       "      <th>text</th>\n",
       "      <th>label</th>\n",
       "      <th>length_text</th>\n",
       "      <th>length_title</th>\n",
       "      <th>sentiment</th>\n",
       "    </tr>\n",
       "  </thead>\n",
       "  <tbody>\n",
       "    <tr>\n",
       "      <th>7</th>\n",
       "      <td>HOUSE INTEL CHAIR On Trump-Russia Fake Story: ...</td>\n",
       "      <td></td>\n",
       "      <td>1</td>\n",
       "      <td>1</td>\n",
       "      <td>79</td>\n",
       "      <td>0</td>\n",
       "    </tr>\n",
       "    <tr>\n",
       "      <th>106</th>\n",
       "      <td>MARKETWATCH LEFTIST: MSM’s “Blatant” Anti Trum...</td>\n",
       "      <td></td>\n",
       "      <td>1</td>\n",
       "      <td>1</td>\n",
       "      <td>68</td>\n",
       "      <td>0</td>\n",
       "    </tr>\n",
       "    <tr>\n",
       "      <th>325</th>\n",
       "      <td>Ohio State University Student Says Terrorist A...</td>\n",
       "      <td></td>\n",
       "      <td>1</td>\n",
       "      <td>1</td>\n",
       "      <td>99</td>\n",
       "      <td>0</td>\n",
       "    </tr>\n",
       "    <tr>\n",
       "      <th>364</th>\n",
       "      <td>JULIAN ASSANGE REVEALS John Podesta’s Hilariou...</td>\n",
       "      <td></td>\n",
       "      <td>1</td>\n",
       "      <td>1</td>\n",
       "      <td>114</td>\n",
       "      <td>0</td>\n",
       "    </tr>\n",
       "    <tr>\n",
       "      <th>512</th>\n",
       "      <td>OBAMA’S LIST OF 21 MEDAL OF FREEDOM Recipients...</td>\n",
       "      <td></td>\n",
       "      <td>1</td>\n",
       "      <td>1</td>\n",
       "      <td>85</td>\n",
       "      <td>0</td>\n",
       "    </tr>\n",
       "    <tr>\n",
       "      <th>...</th>\n",
       "      <td>...</td>\n",
       "      <td>...</td>\n",
       "      <td>...</td>\n",
       "      <td>...</td>\n",
       "      <td>...</td>\n",
       "      <td>...</td>\n",
       "    </tr>\n",
       "    <tr>\n",
       "      <th>71771</th>\n",
       "      <td>WOW! JILL STEIN’S ‘FIRESIDE CHAT’ Exposes Her ...</td>\n",
       "      <td></td>\n",
       "      <td>1</td>\n",
       "      <td>1</td>\n",
       "      <td>73</td>\n",
       "      <td>0</td>\n",
       "    </tr>\n",
       "    <tr>\n",
       "      <th>71914</th>\n",
       "      <td>WATCH TUCKER CARLSON Scorch Sanctuary City May...</td>\n",
       "      <td></td>\n",
       "      <td>1</td>\n",
       "      <td>1</td>\n",
       "      <td>86</td>\n",
       "      <td>0</td>\n",
       "    </tr>\n",
       "    <tr>\n",
       "      <th>72026</th>\n",
       "      <td>BOOM! Woman Tries To Steal TRUMP Signs BUT Thi...</td>\n",
       "      <td></td>\n",
       "      <td>1</td>\n",
       "      <td>1</td>\n",
       "      <td>78</td>\n",
       "      <td>0</td>\n",
       "    </tr>\n",
       "    <tr>\n",
       "      <th>72119</th>\n",
       "      <td>BILL O’REILLY Destroys Liberal Pundit On Trump...</td>\n",
       "      <td></td>\n",
       "      <td>1</td>\n",
       "      <td>1</td>\n",
       "      <td>63</td>\n",
       "      <td>0</td>\n",
       "    </tr>\n",
       "    <tr>\n",
       "      <th>72125</th>\n",
       "      <td>WOW! JILL STEIN’S ‘FIRESIDE CHAT’ Exposes Her ...</td>\n",
       "      <td></td>\n",
       "      <td>1</td>\n",
       "      <td>1</td>\n",
       "      <td>73</td>\n",
       "      <td>0</td>\n",
       "    </tr>\n",
       "  </tbody>\n",
       "</table>\n",
       "<p>739 rows × 6 columns</p>\n",
       "</div>"
      ],
      "text/plain": [
       "                                                   title text  label  \\\n",
       "7      HOUSE INTEL CHAIR On Trump-Russia Fake Story: ...           1   \n",
       "106    MARKETWATCH LEFTIST: MSM’s “Blatant” Anti Trum...           1   \n",
       "325    Ohio State University Student Says Terrorist A...           1   \n",
       "364    JULIAN ASSANGE REVEALS John Podesta’s Hilariou...           1   \n",
       "512    OBAMA’S LIST OF 21 MEDAL OF FREEDOM Recipients...           1   \n",
       "...                                                  ...  ...    ...   \n",
       "71771  WOW! JILL STEIN’S ‘FIRESIDE CHAT’ Exposes Her ...           1   \n",
       "71914  WATCH TUCKER CARLSON Scorch Sanctuary City May...           1   \n",
       "72026  BOOM! Woman Tries To Steal TRUMP Signs BUT Thi...           1   \n",
       "72119  BILL O’REILLY Destroys Liberal Pundit On Trump...           1   \n",
       "72125  WOW! JILL STEIN’S ‘FIRESIDE CHAT’ Exposes Her ...           1   \n",
       "\n",
       "       length_text  length_title  sentiment  \n",
       "7                1            79          0  \n",
       "106              1            68          0  \n",
       "325              1            99          0  \n",
       "364              1           114          0  \n",
       "512              1            85          0  \n",
       "...            ...           ...        ...  \n",
       "71771            1            73          0  \n",
       "71914            1            86          0  \n",
       "72026            1            78          0  \n",
       "72119            1            63          0  \n",
       "72125            1            73          0  \n",
       "\n",
       "[739 rows x 6 columns]"
      ]
     },
     "execution_count": 100,
     "metadata": {},
     "output_type": "execute_result"
    }
   ],
   "source": [
    "mask = df['length_text'] < 2\n",
    "df.loc[mask]"
   ]
  },
  {
   "cell_type": "markdown",
   "id": "0e3f3e12-9511-48d5-b7f3-2f9d1b15be40",
   "metadata": {},
   "source": [
    "Como son espacios en blanco, los eliminamos:"
   ]
  },
  {
   "cell_type": "code",
   "execution_count": 101,
   "id": "93642653-80bf-4ce2-a4cc-368a5b5c2ec7",
   "metadata": {},
   "outputs": [],
   "source": [
    "df = df.loc[~mask]"
   ]
  },
  {
   "cell_type": "markdown",
   "id": "bf95a077-4680-49d0-860f-44ab5ea01309",
   "metadata": {},
   "source": [
    "Respecto de los outliers, podemos observar algunos para detectar anomalías:"
   ]
  },
  {
   "cell_type": "code",
   "execution_count": 102,
   "id": "e83d14d0-e117-4309-9e92-18de9782f2a1",
   "metadata": {},
   "outputs": [
    {
     "data": {
      "text/html": [
       "<div>\n",
       "<style scoped>\n",
       "    .dataframe tbody tr th:only-of-type {\n",
       "        vertical-align: middle;\n",
       "    }\n",
       "\n",
       "    .dataframe tbody tr th {\n",
       "        vertical-align: top;\n",
       "    }\n",
       "\n",
       "    .dataframe thead th {\n",
       "        text-align: right;\n",
       "    }\n",
       "</style>\n",
       "<table border=\"1\" class=\"dataframe\">\n",
       "  <thead>\n",
       "    <tr style=\"text-align: right;\">\n",
       "      <th></th>\n",
       "      <th>title</th>\n",
       "      <th>text</th>\n",
       "      <th>label</th>\n",
       "      <th>length_text</th>\n",
       "      <th>length_title</th>\n",
       "      <th>sentiment</th>\n",
       "    </tr>\n",
       "  </thead>\n",
       "  <tbody>\n",
       "    <tr>\n",
       "      <th>327</th>\n",
       "      <td>Re: The Hard Working American vs. The Governme...</td>\n",
       "      <td>The Hard Working American vs. The Government P...</td>\n",
       "      <td>1</td>\n",
       "      <td>134206</td>\n",
       "      <td>57</td>\n",
       "      <td>1</td>\n",
       "    </tr>\n",
       "    <tr>\n",
       "      <th>6445</th>\n",
       "      <td>Заседание Международного дискуссионного клуба ...</td>\n",
       "      <td>Заседание Международного дискуссионного клуба ...</td>\n",
       "      <td>1</td>\n",
       "      <td>142961</td>\n",
       "      <td>73</td>\n",
       "      <td>0</td>\n",
       "    </tr>\n",
       "    <tr>\n",
       "      <th>8423</th>\n",
       "      <td>Re: More Americans Than Ever Are Losing Their ...</td>\n",
       "      <td>More Americans Than Ever Are Losing Their Reli...</td>\n",
       "      <td>1</td>\n",
       "      <td>65874</td>\n",
       "      <td>54</td>\n",
       "      <td>1</td>\n",
       "    </tr>\n",
       "    <tr>\n",
       "      <th>11596</th>\n",
       "      <td>Comment on BREAKING: Officer Charged for Killi...</td>\n",
       "      <td>Home / BREAKING NEWS / BREAKING: Officer Charg...</td>\n",
       "      <td>1</td>\n",
       "      <td>73679</td>\n",
       "      <td>110</td>\n",
       "      <td>1</td>\n",
       "    </tr>\n",
       "    <tr>\n",
       "      <th>14398</th>\n",
       "      <td>Benny Morris’s Untenable Denial of the Ethnic ...</td>\n",
       "      <td>References The Debate \\nIt started when Daniel...</td>\n",
       "      <td>1</td>\n",
       "      <td>92561</td>\n",
       "      <td>68</td>\n",
       "      <td>1</td>\n",
       "    </tr>\n",
       "    <tr>\n",
       "      <th>17557</th>\n",
       "      <td>Re: How Many People Will Have To Migrate Out O...</td>\n",
       "      <td>How Many People Will Have To Migrate Out Of Ca...</td>\n",
       "      <td>1</td>\n",
       "      <td>115010</td>\n",
       "      <td>89</td>\n",
       "      <td>1</td>\n",
       "    </tr>\n",
       "    <tr>\n",
       "      <th>18477</th>\n",
       "      <td>The Great A.I. Awakening - The New York Times</td>\n",
       "      <td>Late one Friday night in early November, Jun R...</td>\n",
       "      <td>0</td>\n",
       "      <td>85948</td>\n",
       "      <td>45</td>\n",
       "      <td>1</td>\n",
       "    </tr>\n",
       "    <tr>\n",
       "      <th>25077</th>\n",
       "      <td>President Putin Asks US To Stop Provoking Russia</td>\n",
       "      <td>Here is President Putin’s speech at Valdai Put...</td>\n",
       "      <td>1</td>\n",
       "      <td>68208</td>\n",
       "      <td>48</td>\n",
       "      <td>1</td>\n",
       "    </tr>\n",
       "    <tr>\n",
       "      <th>29372</th>\n",
       "      <td>Donald Trump’s New York Times Interview: Full ...</td>\n",
       "      <td>Following is a transcript of   Donald J. Trump...</td>\n",
       "      <td>0</td>\n",
       "      <td>63384</td>\n",
       "      <td>77</td>\n",
       "      <td>1</td>\n",
       "    </tr>\n",
       "    <tr>\n",
       "      <th>30636</th>\n",
       "      <td>Re: It Is Now Mathematically Impossible To Pay...</td>\n",
       "      <td>It Is Now Mathematically Impossible To Pay Off...</td>\n",
       "      <td>1</td>\n",
       "      <td>99355</td>\n",
       "      <td>73</td>\n",
       "      <td>1</td>\n",
       "    </tr>\n",
       "    <tr>\n",
       "      <th>33044</th>\n",
       "      <td>President Putin Asks US To Stop Provoking Russia</td>\n",
       "      <td>Here is President Putin’s speech at Valdai Put...</td>\n",
       "      <td>1</td>\n",
       "      <td>68208</td>\n",
       "      <td>48</td>\n",
       "      <td>1</td>\n",
       "    </tr>\n",
       "    <tr>\n",
       "      <th>34523</th>\n",
       "      <td>Re: Why Are So Many People Choosing To Leave T...</td>\n",
       "      <td>Why Are So Many People Choosing To Leave The U...</td>\n",
       "      <td>1</td>\n",
       "      <td>115372</td>\n",
       "      <td>75</td>\n",
       "      <td>1</td>\n",
       "    </tr>\n",
       "    <tr>\n",
       "      <th>37058</th>\n",
       "      <td>Re: It Is Now Mathematically Impossible To Pay...</td>\n",
       "      <td>It Is Now Mathematically Impossible To Pay Off...</td>\n",
       "      <td>1</td>\n",
       "      <td>99355</td>\n",
       "      <td>73</td>\n",
       "      <td>1</td>\n",
       "    </tr>\n",
       "    <tr>\n",
       "      <th>54433</th>\n",
       "      <td>Re: Why Are So Many People Choosing To Leave T...</td>\n",
       "      <td>Why Are So Many People Choosing To Leave The U...</td>\n",
       "      <td>1</td>\n",
       "      <td>115372</td>\n",
       "      <td>75</td>\n",
       "      <td>1</td>\n",
       "    </tr>\n",
       "    <tr>\n",
       "      <th>57246</th>\n",
       "      <td>Re: Camden, New Jersey: One Of Hundreds Of U.S...</td>\n",
       "      <td>Camden, New Jersey: One Of Hundreds Of U.S. ...</td>\n",
       "      <td>1</td>\n",
       "      <td>73181</td>\n",
       "      <td>104</td>\n",
       "      <td>1</td>\n",
       "    </tr>\n",
       "    <tr>\n",
       "      <th>60640</th>\n",
       "      <td>Benny Morris’s Untenable Denial of the Ethnic ...</td>\n",
       "      <td>References The Debate \\nIt started when Daniel...</td>\n",
       "      <td>1</td>\n",
       "      <td>92561</td>\n",
       "      <td>68</td>\n",
       "      <td>1</td>\n",
       "    </tr>\n",
       "    <tr>\n",
       "      <th>63829</th>\n",
       "      <td>Re: Why Is Obama Threatening Russia With World...</td>\n",
       "      <td>Why Is Obama Threatening Russia With World War...</td>\n",
       "      <td>1</td>\n",
       "      <td>96869</td>\n",
       "      <td>79</td>\n",
       "      <td>1</td>\n",
       "    </tr>\n",
       "    <tr>\n",
       "      <th>66686</th>\n",
       "      <td>Full Transcript and Video: Trump News Conferen...</td>\n",
       "      <td>President Trump on Thursday announced his new ...</td>\n",
       "      <td>0</td>\n",
       "      <td>75897</td>\n",
       "      <td>69</td>\n",
       "      <td>1</td>\n",
       "    </tr>\n",
       "    <tr>\n",
       "      <th>71687</th>\n",
       "      <td>Re: 55 Reasons Why California Is The Worst Sta...</td>\n",
       "      <td>55 Reasons Why California Is The Worst State I...</td>\n",
       "      <td>1</td>\n",
       "      <td>98698</td>\n",
       "      <td>59</td>\n",
       "      <td>1</td>\n",
       "    </tr>\n",
       "  </tbody>\n",
       "</table>\n",
       "</div>"
      ],
      "text/plain": [
       "                                                   title  \\\n",
       "327    Re: The Hard Working American vs. The Governme...   \n",
       "6445   Заседание Международного дискуссионного клуба ...   \n",
       "8423   Re: More Americans Than Ever Are Losing Their ...   \n",
       "11596  Comment on BREAKING: Officer Charged for Killi...   \n",
       "14398  Benny Morris’s Untenable Denial of the Ethnic ...   \n",
       "17557  Re: How Many People Will Have To Migrate Out O...   \n",
       "18477      The Great A.I. Awakening - The New York Times   \n",
       "25077   President Putin Asks US To Stop Provoking Russia   \n",
       "29372  Donald Trump’s New York Times Interview: Full ...   \n",
       "30636  Re: It Is Now Mathematically Impossible To Pay...   \n",
       "33044   President Putin Asks US To Stop Provoking Russia   \n",
       "34523  Re: Why Are So Many People Choosing To Leave T...   \n",
       "37058  Re: It Is Now Mathematically Impossible To Pay...   \n",
       "54433  Re: Why Are So Many People Choosing To Leave T...   \n",
       "57246  Re: Camden, New Jersey: One Of Hundreds Of U.S...   \n",
       "60640  Benny Morris’s Untenable Denial of the Ethnic ...   \n",
       "63829  Re: Why Is Obama Threatening Russia With World...   \n",
       "66686  Full Transcript and Video: Trump News Conferen...   \n",
       "71687  Re: 55 Reasons Why California Is The Worst Sta...   \n",
       "\n",
       "                                                    text  label  length_text  \\\n",
       "327    The Hard Working American vs. The Government P...      1       134206   \n",
       "6445   Заседание Международного дискуссионного клуба ...      1       142961   \n",
       "8423   More Americans Than Ever Are Losing Their Reli...      1        65874   \n",
       "11596  Home / BREAKING NEWS / BREAKING: Officer Charg...      1        73679   \n",
       "14398  References The Debate \\nIt started when Daniel...      1        92561   \n",
       "17557  How Many People Will Have To Migrate Out Of Ca...      1       115010   \n",
       "18477  Late one Friday night in early November, Jun R...      0        85948   \n",
       "25077  Here is President Putin’s speech at Valdai Put...      1        68208   \n",
       "29372  Following is a transcript of   Donald J. Trump...      0        63384   \n",
       "30636  It Is Now Mathematically Impossible To Pay Off...      1        99355   \n",
       "33044  Here is President Putin’s speech at Valdai Put...      1        68208   \n",
       "34523  Why Are So Many People Choosing To Leave The U...      1       115372   \n",
       "37058  It Is Now Mathematically Impossible To Pay Off...      1        99355   \n",
       "54433  Why Are So Many People Choosing To Leave The U...      1       115372   \n",
       "57246    Camden, New Jersey: One Of Hundreds Of U.S. ...      1        73181   \n",
       "60640  References The Debate \\nIt started when Daniel...      1        92561   \n",
       "63829  Why Is Obama Threatening Russia With World War...      1        96869   \n",
       "66686  President Trump on Thursday announced his new ...      0        75897   \n",
       "71687  55 Reasons Why California Is The Worst State I...      1        98698   \n",
       "\n",
       "       length_title  sentiment  \n",
       "327              57          1  \n",
       "6445             73          0  \n",
       "8423             54          1  \n",
       "11596           110          1  \n",
       "14398            68          1  \n",
       "17557            89          1  \n",
       "18477            45          1  \n",
       "25077            48          1  \n",
       "29372            77          1  \n",
       "30636            73          1  \n",
       "33044            48          1  \n",
       "34523            75          1  \n",
       "37058            73          1  \n",
       "54433            75          1  \n",
       "57246           104          1  \n",
       "60640            68          1  \n",
       "63829            79          1  \n",
       "66686            69          1  \n",
       "71687            59          1  "
      ]
     },
     "execution_count": 102,
     "metadata": {},
     "output_type": "execute_result"
    }
   ],
   "source": [
    "df.loc[df['length_text'] > 60000]"
   ]
  },
  {
   "cell_type": "code",
   "execution_count": 103,
   "id": "7aa2f9cc-23bb-4740-9b7f-395c495f4ceb",
   "metadata": {},
   "outputs": [
    {
     "data": {
      "text/plain": [
       "label\n",
       "1    16\n",
       "0     3\n",
       "Name: count, dtype: int64"
      ]
     },
     "execution_count": 103,
     "metadata": {},
     "output_type": "execute_result"
    }
   ],
   "source": [
    "# calculamos el número de noticias falsas y verdaderas con longitud mayor que 60000\n",
    "df.loc[df['length_text'] > 60000, 'label'].value_counts()"
   ]
  },
  {
   "cell_type": "markdown",
   "id": "789022b5-c91c-4ce5-ae44-ee208df8dc6b",
   "metadata": {},
   "source": [
    "La mayoría de noticias con longitud elevada son falsas, así que no van a aportar mucho a nuestro modelo. Podríamos eliminarlas."
   ]
  },
  {
   "cell_type": "code",
   "execution_count": 104,
   "id": "d23b773a-b37f-4df7-bf0f-dc2dcf50ad48",
   "metadata": {},
   "outputs": [],
   "source": [
    "df = df.loc[df['length_text'] < 60000]"
   ]
  },
  {
   "cell_type": "markdown",
   "id": "a8f01ee2-7a65-4ed5-962c-e2e69f7a5eea",
   "metadata": {},
   "source": [
    "## Análisis de la longitud del título, `length_title`."
   ]
  },
  {
   "cell_type": "code",
   "execution_count": 105,
   "id": "24cbb1eb-66ab-46fb-9935-938edc8c23b0",
   "metadata": {
    "tags": []
   },
   "outputs": [
    {
     "data": {
      "image/png": "[encoded data removed]",
      "text/plain": [
       "<Figure size 640x480 with 1 Axes>"
      ]
     },
     "metadata": {},
     "output_type": "display_data"
    }
   ],
   "source": [
    "# Diagrama de caja para visualizar la distribución de la longitud de los títulos de las noticias\n",
    "sns.boxplot(df, x = 'label', y = 'length_title')"
   ]
  },
  {
   "cell_type": "markdown",
   "id": "c9141580-e1b2-40e8-8c00-e4c7855a668d",
   "metadata": {},
   "source": [
    "Esto nos lleva a considerar la correlación entre las variables de longitud y de veracidad de la noticia. Las vemos en un dataframe:"
   ]
  },
  {
   "cell_type": "code",
   "execution_count": 72,
   "id": "3bbdc61e-1bf0-41e2-92a5-d7a9458b70a1",
   "metadata": {},
   "outputs": [
    {
     "data": {
      "text/html": [
       "<div>\n",
       "<style scoped>\n",
       "    .dataframe tbody tr th:only-of-type {\n",
       "        vertical-align: middle;\n",
       "    }\n",
       "\n",
       "    .dataframe tbody tr th {\n",
       "        vertical-align: top;\n",
       "    }\n",
       "\n",
       "    .dataframe thead th {\n",
       "        text-align: right;\n",
       "    }\n",
       "</style>\n",
       "<table border=\"1\" class=\"dataframe\">\n",
       "  <thead>\n",
       "    <tr style=\"text-align: right;\">\n",
       "      <th></th>\n",
       "      <th>length_title</th>\n",
       "      <th>length_text</th>\n",
       "      <th>label</th>\n",
       "    </tr>\n",
       "  </thead>\n",
       "  <tbody>\n",
       "    <tr>\n",
       "      <th>length_title</th>\n",
       "      <td>1.000000</td>\n",
       "      <td>-0.016479</td>\n",
       "      <td>0.325213</td>\n",
       "    </tr>\n",
       "    <tr>\n",
       "      <th>length_text</th>\n",
       "      <td>-0.016479</td>\n",
       "      <td>1.000000</td>\n",
       "      <td>-0.053967</td>\n",
       "    </tr>\n",
       "    <tr>\n",
       "      <th>label</th>\n",
       "      <td>0.325213</td>\n",
       "      <td>-0.053967</td>\n",
       "      <td>1.000000</td>\n",
       "    </tr>\n",
       "  </tbody>\n",
       "</table>\n",
       "</div>"
      ],
      "text/plain": [
       "              length_title  length_text     label\n",
       "length_title      1.000000    -0.016479  0.325213\n",
       "length_text      -0.016479     1.000000 -0.053967\n",
       "label             0.325213    -0.053967  1.000000"
      ]
     },
     "execution_count": 72,
     "metadata": {},
     "output_type": "execute_result"
    }
   ],
   "source": [
    "df[['length_title', 'length_text', 'label']].corr()"
   ]
  },
  {
   "cell_type": "markdown",
   "id": "71fd9271-c590-4af4-840d-7022d3baf80f",
   "metadata": {},
   "source": [
    "Claramente, las noticias falsas tienen mayor longitud del título, como también indicaba la gráfica de cajas. Vamos a eliminar algunos outliers que no son significativos puesto que todas son falsas."
   ]
  },
  {
   "cell_type": "code",
   "execution_count": 107,
   "id": "937f8cab-d127-41df-9d8e-2c80169340b3",
   "metadata": {},
   "outputs": [
    {
     "data": {
      "text/plain": [
       "label\n",
       "1    1730\n",
       "0       7\n",
       "Name: count, dtype: int64"
      ]
     },
     "execution_count": 107,
     "metadata": {},
     "output_type": "execute_result"
    }
   ],
   "source": [
    "df.loc[df['length_title'] > 140, 'label'].value_counts()"
   ]
  },
  {
   "cell_type": "code",
   "execution_count": 108,
   "id": "471febea-be38-424e-a886-91241b3508f1",
   "metadata": {},
   "outputs": [],
   "source": [
    "# eliminamos los outliers de longitud del titulo\n",
    "df = df.loc[df['length_title'] < 140]"
   ]
  },
  {
   "cell_type": "code",
   "execution_count": 109,
   "id": "eca4b6b9-5962-4e9b-9716-8b54be91b624",
   "metadata": {},
   "outputs": [
    {
     "data": {
      "text/plain": [
       "label\n",
       "1    26\n",
       "Name: count, dtype: int64"
      ]
     },
     "execution_count": 109,
     "metadata": {},
     "output_type": "execute_result"
    }
   ],
   "source": [
    "# examinamos ahora las que tienen un título corto\n",
    "df.loc[df['length_title'] < 10, 'label'].value_counts()"
   ]
  },
  {
   "cell_type": "markdown",
   "id": "a3d76df4-47e2-4f41-b1ad-5c045aac1b1d",
   "metadata": {},
   "source": [
    "Son todas falsas, aunque su texto puede ser largo y contener información relevante:"
   ]
  },
  {
   "cell_type": "code",
   "execution_count": 110,
   "id": "1b178b2f-8859-46cc-8b2e-1254002a3b47",
   "metadata": {},
   "outputs": [
    {
     "data": {
      "text/plain": [
       "3912.1153846153848"
      ]
     },
     "execution_count": 110,
     "metadata": {},
     "output_type": "execute_result"
    }
   ],
   "source": [
    "df.loc[df['length_title'] < 10, 'text'].str.len().mean()"
   ]
  },
  {
   "cell_type": "markdown",
   "id": "eef1956f-741d-4e63-895d-fd6a358db4b4",
   "metadata": {},
   "source": [
    "No las eliminamos porque pueden contener información relevante en la columna ```text```, que entendemos que va a ser nuestro principal objetivo."
   ]
  },
  {
   "cell_type": "markdown",
   "id": "0b3d9d83-7227-452c-a20b-1fea25ce264f",
   "metadata": {},
   "source": [
    "## Análisis del sentimentalismo de las noticias:"
   ]
  },
  {
   "cell_type": "code",
   "execution_count": 111,
   "id": "26c8ce9f-f65c-4677-b317-ed56bdac3713",
   "metadata": {
    "tags": []
   },
   "outputs": [
    {
     "data": {
      "text/plain": [
       "(sentiment\n",
       " 0    53815\n",
       " 1    15147\n",
       " Name: count, dtype: int64,\n",
       " sentiment\n",
       " 0    0.780357\n",
       " 1    0.219643\n",
       " Name: proportion, dtype: float64)"
      ]
     },
     "execution_count": 111,
     "metadata": {},
     "output_type": "execute_result"
    }
   ],
   "source": [
    "# cantidad de noticias según 'sentiment'\n",
    "df['sentiment'].value_counts(), df['sentiment'].value_counts(normalize = True)"
   ]
  },
  {
   "cell_type": "code",
   "execution_count": null,
   "id": "5403d5ca-ca32-4215-8ea3-50a56dc52894",
   "metadata": {},
   "outputs": [],
   "source": [
    "plt.title('Distribución de las Etiquetas (sentiment)')\n",
    "plt.xlabel('Etiqueta')\n",
    "plt.ylabel('Count')\n",
    "plt.show()"
   ]
  },
  {
   "cell_type": "code",
   "execution_count": 114,
   "id": "7ac3893e-02df-47da-a0ad-033b724a7efd",
   "metadata": {
    "tags": []
   },
   "outputs": [
    {
     "name": "stderr",
     "output_type": "stream",
     "text": [
      "C:\\Users\\alexb\\AppData\\Local\\Temp\\ipykernel_5604\\2910295789.py:3: FutureWarning: Setting an item of incompatible dtype is deprecated and will raise in a future error of pandas. Value '['Falsa' 'Falsa' 'Verdadera' ... 'Verdadera' 'Verdadera' 'Falsa']' has dtype incompatible with int64, please explicitly cast to a compatible dtype first.\n",
      "  plot.loc[:, 'label'] = plot.loc[:, 'label'].replace({0: 'Verdadera', 1: 'Falsa'})\n"
     ]
    },
    {
     "data": {
      "text/plain": [
       "<Axes: xlabel='sentiment', ylabel='count'>"
      ]
     },
     "execution_count": 114,
     "metadata": {},
     "output_type": "execute_result"
    },
    {
     "data": {
      "image/png": "[encoded data removed]",
      "text/plain": [
       "<Figure size 640x480 with 1 Axes>"
      ]
     },
     "metadata": {},
     "output_type": "display_data"
    }
   ],
   "source": [
    "# Gráfico de barras para la distribución de etiquetas de la columna 'sentiment'\n",
    "plot = df.copy()\n",
    "plot.loc[:, 'label'] = plot.loc[:, 'label'].replace({0: 'Verdadera', 1: 'Falsa'})\n",
    "sns.countplot(plot, x = 'sentiment', hue = 'label')"
   ]
  },
  {
   "cell_type": "markdown",
   "id": "1e892a05-4511-4222-8264-d0a3393247ca",
   "metadata": {},
   "source": [
    "Observamos que, aunque la diferencia es pequeña, hay más noticias falsas que son sentimentalistas."
   ]
  },
  {
   "cell_type": "markdown",
   "id": "48afb883-f7d1-4ddd-9604-fc5cf439bdc5",
   "metadata": {},
   "source": [
    "## Análisis de sentimientos con `textblob`\n",
    "Extraemos la polaridad y la subjetividad de cada noticia y las guardamos en columnas"
   ]
  },
  {
   "cell_type": "code",
   "execution_count": 115,
   "id": "685555c6-b09b-4f9f-89da-a6827ab0da87",
   "metadata": {
    "tags": []
   },
   "outputs": [],
   "source": [
    "# Función para obtener el sentimiento\n",
    "def get_sentiment(text):\n",
    "    analysis = TextBlob(text)\n",
    "    return analysis.sentiment.polarity, analysis.sentiment.subjectivity"
   ]
  },
  {
   "cell_type": "code",
   "execution_count": 116,
   "id": "b3abdbee-a0ce-4bcc-8527-b5a3f79352af",
   "metadata": {
    "tags": []
   },
   "outputs": [],
   "source": [
    "df['polarity'], df['subjectivity'] = zip(*df['text'].apply(get_sentiment))"
   ]
  },
  {
   "cell_type": "markdown",
   "id": "9d93e343-bec3-4da4-b576-6c397bdfe054",
   "metadata": {},
   "source": [
    "Ahora mostramos las estadísticas de cada columna y graficamos su distribución."
   ]
  },
  {
   "cell_type": "code",
   "execution_count": 119,
   "id": "7325d6ab-73e8-4ded-b263-d1f84581eb66",
   "metadata": {
    "tags": []
   },
   "outputs": [
    {
     "name": "stderr",
     "output_type": "stream",
     "text": [
      "C:\\Users\\alexb\\anaconda3\\envs\\hackaboss\\Lib\\site-packages\\seaborn\\_oldcore.py:1119: FutureWarning: use_inf_as_na option is deprecated and will be removed in a future version. Convert inf values to NaN before operating instead.\n",
      "  with pd.option_context('mode.use_inf_as_na', True):\n",
      "C:\\Users\\alexb\\anaconda3\\envs\\hackaboss\\Lib\\site-packages\\seaborn\\_oldcore.py:1119: FutureWarning: use_inf_as_na option is deprecated and will be removed in a future version. Convert inf values to NaN before operating instead.\n",
      "  with pd.option_context('mode.use_inf_as_na', True):\n",
      "C:\\Users\\alexb\\anaconda3\\envs\\hackaboss\\Lib\\site-packages\\seaborn\\_oldcore.py:1119: FutureWarning: use_inf_as_na option is deprecated and will be removed in a future version. Convert inf values to NaN before operating instead.\n",
      "  with pd.option_context('mode.use_inf_as_na', True):\n",
      "C:\\Users\\alexb\\anaconda3\\envs\\hackaboss\\Lib\\site-packages\\seaborn\\_oldcore.py:1119: FutureWarning: use_inf_as_na option is deprecated and will be removed in a future version. Convert inf values to NaN before operating instead.\n",
      "  with pd.option_context('mode.use_inf_as_na', True):\n"
     ]
    },
    {
     "data": {
      "image/png": "[encoded data removed]",
      "text/plain": [
       "<Figure size 1200x600 with 2 Axes>"
      ]
     },
     "metadata": {},
     "output_type": "display_data"
    }
   ],
   "source": [
    "# Separar los datos en noticias falsas y verdaderas\n",
    "fake_news = df[df['label'] == 1]\n",
    "true_news = df[df['label'] == 0]\n",
    "\n",
    "plt.figure(figsize=(12, 6))\n",
    "\n",
    "# ploteamos las distribuciones de polaridad según sean falsas o verdaderas\n",
    "plt.subplot(1, 2, 1)\n",
    "sns.histplot(fake_news['polarity'], kde=True, color='red', label='Falsas')\n",
    "sns.histplot(true_news['polarity'], kde=True, color='green', label='Verdaderas')\n",
    "plt.title('Distribución de Polaridad')\n",
    "plt.legend()\n",
    "\n",
    "# ploteamos las distribuciones de subjetividad según sean falsas o verdaderas\n",
    "plt.subplot(1, 2, 2)\n",
    "sns.histplot(fake_news['subjectivity'], kde=True, color='red', label='Falsas')\n",
    "sns.histplot(true_news['subjectivity'], kde=True, color='green', label='Verdaderas')\n",
    "plt.title('Distribución de Subjetividad')\n",
    "plt.legend()\n",
    "\n",
    "plt.tight_layout()\n",
    "plt.show()"
   ]
  },
  {
   "cell_type": "markdown",
   "id": "dafddc32-3df8-4dad-8a14-a658e52a57cb",
   "metadata": {},
   "source": [
    "La polaridad de ambas categorías de noticias se concentra alrededor de cero, lo cual es típico ya que la mayoría de los textos tienden a ser neutrales en tono.\n",
    "Las curvas son bastante similares para ambas categorías, lo que indica que no hay una diferencia significativa en la polaridad entre las noticias falsas y verdaderas.\n",
    "La subjetividad también muestra distribuciones similares para ambas categorías, con un ligero sesgo hacia textos más subjetivos en las noticias falsas. El pico de noticias falsas con subjetividad nula que observamos explica la mayor desviación estándar de dicha muestra."
   ]
  },
  {
   "cell_type": "markdown",
   "id": "28af531d-a010-4591-b1c1-8246c6676adf",
   "metadata": {},
   "source": [
    "### Ahora hacemos lo mismo con `title`:"
   ]
  },
  {
   "cell_type": "code",
   "execution_count": 120,
   "id": "97bffc20-d74a-426f-9308-57496f48949c",
   "metadata": {},
   "outputs": [],
   "source": [
    "df['title_polarity'], df['title_subjectivity'] = zip(*df['title'].apply(get_sentiment))"
   ]
  },
  {
   "cell_type": "code",
   "execution_count": 125,
   "id": "bdb47035-82b3-4ff2-ab6f-e13524b361d7",
   "metadata": {},
   "outputs": [
    {
     "name": "stderr",
     "output_type": "stream",
     "text": [
      "C:\\Users\\alexb\\anaconda3\\envs\\hackaboss\\Lib\\site-packages\\seaborn\\_oldcore.py:1119: FutureWarning: use_inf_as_na option is deprecated and will be removed in a future version. Convert inf values to NaN before operating instead.\n",
      "  with pd.option_context('mode.use_inf_as_na', True):\n",
      "C:\\Users\\alexb\\anaconda3\\envs\\hackaboss\\Lib\\site-packages\\seaborn\\_oldcore.py:1119: FutureWarning: use_inf_as_na option is deprecated and will be removed in a future version. Convert inf values to NaN before operating instead.\n",
      "  with pd.option_context('mode.use_inf_as_na', True):\n",
      "C:\\Users\\alexb\\anaconda3\\envs\\hackaboss\\Lib\\site-packages\\seaborn\\_oldcore.py:1119: FutureWarning: use_inf_as_na option is deprecated and will be removed in a future version. Convert inf values to NaN before operating instead.\n",
      "  with pd.option_context('mode.use_inf_as_na', True):\n",
      "C:\\Users\\alexb\\anaconda3\\envs\\hackaboss\\Lib\\site-packages\\seaborn\\_oldcore.py:1119: FutureWarning: use_inf_as_na option is deprecated and will be removed in a future version. Convert inf values to NaN before operating instead.\n",
      "  with pd.option_context('mode.use_inf_as_na', True):\n"
     ]
    },
    {
     "data": {
      "image/png": "[encoded data removed]",
      "text/plain": [
       "<Figure size 1200x600 with 2 Axes>"
      ]
     },
     "metadata": {},
     "output_type": "display_data"
    }
   ],
   "source": [
    "fake_news = df[df['label'] == 1]\n",
    "true_news = df[df['label'] == 0]\n",
    "\n",
    "plt.figure(figsize=(12, 6))\n",
    "\n",
    "# ploteamos las distribuciones de polaridad según sean falsas o verdaderas\n",
    "plt.subplot(1, 2, 1)\n",
    "sns.histplot(fake_news['title_polarity'], color='red', label='Falsas', bins = 40)\n",
    "sns.histplot(true_news['title_polarity'], color='green', label='Verdaderas', bins = 40)\n",
    "plt.title('Distribución de Polaridad')\n",
    "plt.legend()\n",
    "\n",
    "# ploteamos las distribuciones de subjetividad según sean falsas o verdaderas\n",
    "plt.subplot(1, 2, 2)\n",
    "sns.histplot(fake_news['title_subjectivity'], color='red', label='Falsas')\n",
    "sns.histplot(true_news['title_subjectivity'], color='green', label='Verdaderas')\n",
    "plt.title('Distribución de Subjetividad')\n",
    "plt.legend()\n",
    "\n",
    "plt.tight_layout()\n",
    "plt.show()"
   ]
  },
  {
   "cell_type": "markdown",
   "id": "14f7426c-5a9f-4983-af82-0034041d2ae1",
   "metadata": {},
   "source": [
    "Los resultados en `polarity` son parecidos a los que obtuvimos con `text`. Las noticias tienden a no tener polaridad, aunque en los extremos podemos ver que las falsas alcanzan mayores valores de polaridad. Sin enmbargo, no observamos una gran diferencia entre la subjetividad de falsas y verdaderas."
   ]
  },
  {
   "cell_type": "code",
   "execution_count": 126,
   "id": "bb8632e2-04dc-4aa8-b322-2dc0ab65e749",
   "metadata": {
    "tags": []
   },
   "outputs": [
    {
     "data": {
      "text/html": [
       "<div>\n",
       "<style scoped>\n",
       "    .dataframe tbody tr th:only-of-type {\n",
       "        vertical-align: middle;\n",
       "    }\n",
       "\n",
       "    .dataframe tbody tr th {\n",
       "        vertical-align: top;\n",
       "    }\n",
       "\n",
       "    .dataframe thead th {\n",
       "        text-align: right;\n",
       "    }\n",
       "</style>\n",
       "<table border=\"1\" class=\"dataframe\">\n",
       "  <thead>\n",
       "    <tr style=\"text-align: right;\">\n",
       "      <th></th>\n",
       "      <th>label</th>\n",
       "      <th>length_text</th>\n",
       "      <th>length_title</th>\n",
       "      <th>sentiment</th>\n",
       "      <th>polarity</th>\n",
       "      <th>subjectivity</th>\n",
       "      <th>title_polarity</th>\n",
       "      <th>title_subjectivity</th>\n",
       "    </tr>\n",
       "  </thead>\n",
       "  <tbody>\n",
       "    <tr>\n",
       "      <th>label</th>\n",
       "      <td>1.000000</td>\n",
       "      <td>-0.055136</td>\n",
       "      <td>0.293512</td>\n",
       "      <td>0.046505</td>\n",
       "      <td>0.018448</td>\n",
       "      <td>0.231192</td>\n",
       "      <td>-0.060813</td>\n",
       "      <td>0.144913</td>\n",
       "    </tr>\n",
       "    <tr>\n",
       "      <th>length_text</th>\n",
       "      <td>-0.055136</td>\n",
       "      <td>1.000000</td>\n",
       "      <td>-0.024405</td>\n",
       "      <td>0.285332</td>\n",
       "      <td>0.027703</td>\n",
       "      <td>0.067897</td>\n",
       "      <td>0.027918</td>\n",
       "      <td>0.053533</td>\n",
       "    </tr>\n",
       "    <tr>\n",
       "      <th>length_title</th>\n",
       "      <td>0.293512</td>\n",
       "      <td>-0.024405</td>\n",
       "      <td>1.000000</td>\n",
       "      <td>0.039231</td>\n",
       "      <td>-0.021426</td>\n",
       "      <td>0.129153</td>\n",
       "      <td>-0.018436</td>\n",
       "      <td>0.237852</td>\n",
       "    </tr>\n",
       "    <tr>\n",
       "      <th>sentiment</th>\n",
       "      <td>0.046505</td>\n",
       "      <td>0.285332</td>\n",
       "      <td>0.039231</td>\n",
       "      <td>1.000000</td>\n",
       "      <td>-0.022366</td>\n",
       "      <td>0.092072</td>\n",
       "      <td>-0.010873</td>\n",
       "      <td>0.053299</td>\n",
       "    </tr>\n",
       "    <tr>\n",
       "      <th>polarity</th>\n",
       "      <td>0.018448</td>\n",
       "      <td>0.027703</td>\n",
       "      <td>-0.021426</td>\n",
       "      <td>-0.022366</td>\n",
       "      <td>1.000000</td>\n",
       "      <td>0.190630</td>\n",
       "      <td>0.213637</td>\n",
       "      <td>0.033618</td>\n",
       "    </tr>\n",
       "    <tr>\n",
       "      <th>subjectivity</th>\n",
       "      <td>0.231192</td>\n",
       "      <td>0.067897</td>\n",
       "      <td>0.129153</td>\n",
       "      <td>0.092072</td>\n",
       "      <td>0.190630</td>\n",
       "      <td>1.000000</td>\n",
       "      <td>0.011310</td>\n",
       "      <td>0.219758</td>\n",
       "    </tr>\n",
       "    <tr>\n",
       "      <th>title_polarity</th>\n",
       "      <td>-0.060813</td>\n",
       "      <td>0.027918</td>\n",
       "      <td>-0.018436</td>\n",
       "      <td>-0.010873</td>\n",
       "      <td>0.213637</td>\n",
       "      <td>0.011310</td>\n",
       "      <td>1.000000</td>\n",
       "      <td>0.021138</td>\n",
       "    </tr>\n",
       "    <tr>\n",
       "      <th>title_subjectivity</th>\n",
       "      <td>0.144913</td>\n",
       "      <td>0.053533</td>\n",
       "      <td>0.237852</td>\n",
       "      <td>0.053299</td>\n",
       "      <td>0.033618</td>\n",
       "      <td>0.219758</td>\n",
       "      <td>0.021138</td>\n",
       "      <td>1.000000</td>\n",
       "    </tr>\n",
       "  </tbody>\n",
       "</table>\n",
       "</div>"
      ],
      "text/plain": [
       "                       label  length_text  length_title  sentiment  polarity  \\\n",
       "label               1.000000    -0.055136      0.293512   0.046505  0.018448   \n",
       "length_text        -0.055136     1.000000     -0.024405   0.285332  0.027703   \n",
       "length_title        0.293512    -0.024405      1.000000   0.039231 -0.021426   \n",
       "sentiment           0.046505     0.285332      0.039231   1.000000 -0.022366   \n",
       "polarity            0.018448     0.027703     -0.021426  -0.022366  1.000000   \n",
       "subjectivity        0.231192     0.067897      0.129153   0.092072  0.190630   \n",
       "title_polarity     -0.060813     0.027918     -0.018436  -0.010873  0.213637   \n",
       "title_subjectivity  0.144913     0.053533      0.237852   0.053299  0.033618   \n",
       "\n",
       "                    subjectivity  title_polarity  title_subjectivity  \n",
       "label                   0.231192       -0.060813            0.144913  \n",
       "length_text             0.067897        0.027918            0.053533  \n",
       "length_title            0.129153       -0.018436            0.237852  \n",
       "sentiment               0.092072       -0.010873            0.053299  \n",
       "polarity                0.190630        0.213637            0.033618  \n",
       "subjectivity            1.000000        0.011310            0.219758  \n",
       "title_polarity          0.011310        1.000000            0.021138  \n",
       "title_subjectivity      0.219758        0.021138            1.000000  "
      ]
     },
     "execution_count": 126,
     "metadata": {},
     "output_type": "execute_result"
    }
   ],
   "source": [
    "# matriz de correlación\n",
    "df.corr(numeric_only=True)"
   ]
  },
  {
   "cell_type": "code",
   "execution_count": 132,
   "id": "6cb7d53d-837f-4eab-b2b7-af260a9b75c2",
   "metadata": {
    "tags": []
   },
   "outputs": [
    {
     "data": {
      "text/plain": [
       "<Axes: >"
      ]
     },
     "execution_count": 132,
     "metadata": {},
     "output_type": "execute_result"
    },
    {
     "data": {
      "image/png": "[encoded data removed]",
      "text/plain": [
       "<Figure size 640x480 with 2 Axes>"
      ]
     },
     "metadata": {},
     "output_type": "display_data"
    }
   ],
   "source": [
    "# Crear heatmap\n",
    "sns.heatmap(corr, annot=True, cmap='coolwarm')"
   ]
  },
  {
   "cell_type": "markdown",
   "id": "4dca6328-04af-444a-98cd-e856de3d8600",
   "metadata": {},
   "source": [
    "La conclusión es que las únicas correlaciones observables para la columna `label` se dan con la longitud del título y ligeramente con la subjetividad. Como habíamos visto antes, la polaridad y el sentimiento no tienen gran relación con la veracidad de la noticia."
   ]
  },
  {
   "cell_type": "code",
   "execution_count": 133,
   "id": "eaa988d7-5b4d-4734-945b-ec998fbc87e8",
   "metadata": {},
   "outputs": [],
   "source": [
    "# guardamos los datos procesados en un nuevo csv\n",
    "df.to_csv('Data/fake_news_after_eda.csv', header=True, index=False)"
   ]
  }
 ],
 "metadata": {
  "kernelspec": {
   "display_name": "Python 3 (ipykernel)",
   "language": "python",
   "name": "python3"
  },
  "language_info": {
   "codemirror_mode": {
    "name": "ipython",
    "version": 3
   },
   "file_extension": ".py",
   "mimetype": "text/x-python",
   "name": "python",
   "nbconvert_exporter": "python",
   "pygments_lexer": "ipython3",
   "version": "3.11.8"
  }
 },
 "nbformat": 4,
 "nbformat_minor": 5
}
